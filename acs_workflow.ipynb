{
 "cells": [
  {
   "attachments": {},
   "cell_type": "markdown",
   "metadata": {},
   "source": [
    "\n",
    "# ACS Occupation Autocoder Workflow\n",
    "\n",
    "*The U.S. Census Bureau reviewed this data product for unauthorized disclosure of confidential information and approved the disclosure avoidance practices applied to this release. CBDRB-FY21-POP001-0171.*\n",
    "\n",
    "## Introduction\n",
    "\n",
    "The American Community Survey (ACS) asks employed respondents to report about their occupation and typical activities on the job in open-ended text fields. Traditionally, clerical coders at the Census National Processing Center manually assign Census occupation codes to write-in entries. In 2012, Census implemented a logistic regression autocoder in an attempt to reduce the number of cases sent to clerical coding. This jupyter notebook presents a complete machine learning (ML) workflow to develop an autocoder to assign Census occupation codes to occupation write-in data from the 2018 and 2019 ACS. \n",
    "\n",
    "This project seeks to evaulate the autocoder and find areas where it can be improved. My evaluation strategy was to develop a competing autocoder using updated ML tools to determine if it could result in fewer cases going to clerical coding while maintaining a consistent level of (and ideally improving) prediction accuracy. As you will see below, I leverage existing linkage data with a random forest classifier to implement a custom \"ensemble\" that improves model accuracy over the existing autocoder. For example, at one threshold of model accuracy, the current production autocoder (2012 vintage) saves about 50 percent of records from going to clerical coding, while my ensemble saves about 86 percent.\n",
    "\n",
    "In order to use ML methods for the write-in data, I use natural language processing (NLP) technique to convert write-in text into a numeric form. No pre-processing is done to the text; instead, I rely on a pipeline that would conceivably have enough support to detect a signal from the write-ins while allowing for common spelling errors to have weight in generating predictions (with more time, however, exploring alternatives would have been useful). Even with the subsample used here (more on this below) and using lemmatized text to reduce the horizontal dimension of input matrices, model features exceeded 100,000. For the freamework chosen, this sample size (roughly a 3 percent subsample of all data available), easily runs into memory limitations on the existing computing infrastructure.\n",
    "\n",
    "The ML model used here was estimated in a separate routine, chosen by Grid Search, and then \"pickled\" for use here. Code generating the Grid Search is available by request. However, that code is farily generic. The majority of processing work involves data preparation and feature engineering, which is demonstrated in this notebook.\n",
    "\n",
    "The workflow consists of loading write-in data, conducting feature engineering, and applying a custom ML \"ensemble\" consisting of an \"index autocoder\" (see the `exact_match_results.ipynb` notebook in this repository) and a Random Forest Classifier. I then evaluate the model accuracy and record indicators of which records were assigned matches at a given stage. I also present a simple heuristic that will help stakeholders and other decision makers choose a simple accuracy threshold that can determine the expected cost savings associated with different modeling options. For example, I calculate the number of records that must go to clerical coding for a given model accuracy; that tradeoff can be chosen by choosing a predicted probability threshold. If estimates of the per-unit cost (in dollars and/or time) is known *ex ante*, this heuristic could provide a direct cost savings estimate for different modeling options.\n",
    "\n",
    "Finally, Census occupation codes for these files are based on the 2018 [Standard Occupational Classification (SOC) System](https://www.bls.gov/soc/)). See my other [repository](https://github.com/krwilkin/census-occ-to-soc) for a more detailed discussion of the relationship between the SOC and Census occupation codes."
   ]
  },
  {
   "cell_type": "code",
   "execution_count": 1,
   "metadata": {
    "collapsed": true
   },
   "outputs": [],
   "source": [
    "# import modules\n",
    "import pandas as pd\n",
    "import numpy as np\n",
    "import json\n",
    "import os\n",
    "import joblib\n",
    "import re"
   ]
  },
  {
   "cell_type": "code",
   "execution_count": 2,
   "metadata": {},
   "outputs": [
    {
     "data": {
      "text/plain": [
       "'/projects/users/wilki341'"
      ]
     },
     "execution_count": 2,
     "metadata": {},
     "output_type": "execute_result"
    }
   ],
   "source": [
    "os.getcwd()"
   ]
  },
  {
   "cell_type": "code",
   "execution_count": 45,
   "metadata": {},
   "outputs": [
    {
     "name": "stderr",
     "output_type": "stream",
     "text": [
      "/apps/anaconda/envs/datascience/lib/python3.8/site-packages/IPython/core/interactiveshell.py:3145: DtypeWarning: Columns (64,71) have mixed types.Specify dtype option on import or set low_memory=False.\n",
      "  has_raised = await self.run_ast_nodes(code_ast.body, cell_name,\n"
     ]
    }
   ],
   "source": [
    "# import data\n",
    "occdf = pd.read_json('occ_index_clean.json')\n",
    "acs = pd.read_csv('acs_occ_sample_n250.csv')"
   ]
  },
  {
   "cell_type": "code",
   "execution_count": 4,
   "metadata": {},
   "outputs": [
    {
     "data": {
      "text/html": [
       "<div>\n",
       "<style scoped>\n",
       "    .dataframe tbody tr th:only-of-type {\n",
       "        vertical-align: middle;\n",
       "    }\n",
       "\n",
       "    .dataframe tbody tr th {\n",
       "        vertical-align: top;\n",
       "    }\n",
       "\n",
       "    .dataframe thead th {\n",
       "        text-align: right;\n",
       "    }\n",
       "</style>\n",
       "<table border=\"1\" class=\"dataframe\">\n",
       "  <thead>\n",
       "    <tr style=\"text-align: right;\">\n",
       "      <th></th>\n",
       "      <th>title</th>\n",
       "      <th>cenocc</th>\n",
       "      <th>edrestr</th>\n",
       "      <th>indrestr</th>\n",
       "    </tr>\n",
       "  </thead>\n",
       "  <tbody>\n",
       "    <tr>\n",
       "      <th>0</th>\n",
       "      <td>Admiral</td>\n",
       "      <td>10</td>\n",
       "      <td>None</td>\n",
       "      <td>None</td>\n",
       "    </tr>\n",
       "    <tr>\n",
       "      <th>1</th>\n",
       "      <td>Board chairman</td>\n",
       "      <td>10</td>\n",
       "      <td>None</td>\n",
       "      <td>None</td>\n",
       "    </tr>\n",
       "    <tr>\n",
       "      <th>2</th>\n",
       "      <td>Board member</td>\n",
       "      <td>10</td>\n",
       "      <td>None</td>\n",
       "      <td>None</td>\n",
       "    </tr>\n",
       "    <tr>\n",
       "      <th>3</th>\n",
       "      <td>Bureau chief</td>\n",
       "      <td>10</td>\n",
       "      <td>None</td>\n",
       "      <td>[{'range': 'int({0}) in range(9370,9590+1)', '...</td>\n",
       "    </tr>\n",
       "    <tr>\n",
       "      <th>4</th>\n",
       "      <td>CEO</td>\n",
       "      <td>10</td>\n",
       "      <td>None</td>\n",
       "      <td>None</td>\n",
       "    </tr>\n",
       "  </tbody>\n",
       "</table>\n",
       "</div>"
      ],
      "text/plain": [
       "            title  cenocc edrestr  \\\n",
       "0         Admiral      10    None   \n",
       "1  Board chairman      10    None   \n",
       "2    Board member      10    None   \n",
       "3    Bureau chief      10    None   \n",
       "4             CEO      10    None   \n",
       "\n",
       "                                            indrestr  \n",
       "0                                               None  \n",
       "1                                               None  \n",
       "2                                               None  \n",
       "3  [{'range': 'int({0}) in range(9370,9590+1)', '...  \n",
       "4                                               None  "
      ]
     },
     "execution_count": 4,
     "metadata": {},
     "output_type": "execute_result"
    }
   ],
   "source": [
    "occdf.head()"
   ]
  },
  {
   "cell_type": "code",
   "execution_count": 5,
   "metadata": {},
   "outputs": [
    {
     "data": {
      "text/html": [
       "<div>\n",
       "<style scoped>\n",
       "    .dataframe tbody tr th:only-of-type {\n",
       "        vertical-align: middle;\n",
       "    }\n",
       "\n",
       "    .dataframe tbody tr th {\n",
       "        vertical-align: top;\n",
       "    }\n",
       "\n",
       "    .dataframe thead th {\n",
       "        text-align: right;\n",
       "    }\n",
       "</style>\n",
       "<table border=\"1\" class=\"dataframe\">\n",
       "  <thead>\n",
       "    <tr style=\"text-align: right;\">\n",
       "      <th></th>\n",
       "      <th>CMID</th>\n",
       "      <th>PNUM</th>\n",
       "      <th>CTY</th>\n",
       "      <th>ST</th>\n",
       "      <th>GQ</th>\n",
       "      <th>IMO</th>\n",
       "      <th>MODE</th>\n",
       "      <th>UAGE</th>\n",
       "      <th>AGE</th>\n",
       "      <th>FAGE</th>\n",
       "      <th>...</th>\n",
       "      <th>inx4</th>\n",
       "      <th>ocw1</th>\n",
       "      <th>ocw2</th>\n",
       "      <th>tocoding</th>\n",
       "      <th>INX1</th>\n",
       "      <th>auto_uind</th>\n",
       "      <th>auto_uocc</th>\n",
       "      <th>GQMAJTYP</th>\n",
       "      <th>year</th>\n",
       "      <th>SEQ</th>\n",
       "    </tr>\n",
       "  </thead>\n",
       "  <tbody>\n",
       "    <tr>\n",
       "      <th>0</th>\n",
       "      <td>587851296</td>\n",
       "      <td>1.0</td>\n",
       "      <td>31</td>\n",
       "      <td>17</td>\n",
       "      <td>0</td>\n",
       "      <td>12.0</td>\n",
       "      <td>6</td>\n",
       "      <td>57.0</td>\n",
       "      <td>57.0</td>\n",
       "      <td>0</td>\n",
       "      <td>...</td>\n",
       "      <td>4</td>\n",
       "      <td>PRESIDENT</td>\n",
       "      <td>PROVIDE MANAGEMENT ASSISTANCE TO SMALL BUSINES...</td>\n",
       "      <td>0</td>\n",
       "      <td>NaN</td>\n",
       "      <td>7390.0</td>\n",
       "      <td>10.0</td>\n",
       "      <td>NaN</td>\n",
       "      <td>2019</td>\n",
       "      <td>0.0</td>\n",
       "    </tr>\n",
       "    <tr>\n",
       "      <th>1</th>\n",
       "      <td>559844799</td>\n",
       "      <td>1.0</td>\n",
       "      <td>47</td>\n",
       "      <td>36</td>\n",
       "      <td>0</td>\n",
       "      <td>5.0</td>\n",
       "      <td>6</td>\n",
       "      <td>40.0</td>\n",
       "      <td>40.0</td>\n",
       "      <td>0</td>\n",
       "      <td>...</td>\n",
       "      <td>4</td>\n",
       "      <td>VICE PRESIDENT RESEARCH</td>\n",
       "      <td>EVALUATE SUCCESS OF STUDENTS AND PROGRAM FOR Y...</td>\n",
       "      <td>0</td>\n",
       "      <td>NaN</td>\n",
       "      <td>7860.0</td>\n",
       "      <td>10.0</td>\n",
       "      <td>NaN</td>\n",
       "      <td>2019</td>\n",
       "      <td>0.0</td>\n",
       "    </tr>\n",
       "    <tr>\n",
       "      <th>2</th>\n",
       "      <td>553756630</td>\n",
       "      <td>1.0</td>\n",
       "      <td>23</td>\n",
       "      <td>34</td>\n",
       "      <td>0</td>\n",
       "      <td>2.0</td>\n",
       "      <td>6</td>\n",
       "      <td>46.0</td>\n",
       "      <td>46.0</td>\n",
       "      <td>0</td>\n",
       "      <td>...</td>\n",
       "      <td>3</td>\n",
       "      <td>VP INFORMATION TECHNOLOGY</td>\n",
       "      <td>OVERSEE INFORMATION TECHNOLOGY DEPARTMENT</td>\n",
       "      <td>0</td>\n",
       "      <td>NaN</td>\n",
       "      <td>NaN</td>\n",
       "      <td>NaN</td>\n",
       "      <td>NaN</td>\n",
       "      <td>2019</td>\n",
       "      <td>0.0</td>\n",
       "    </tr>\n",
       "    <tr>\n",
       "      <th>3</th>\n",
       "      <td>579310994</td>\n",
       "      <td>1.0</td>\n",
       "      <td>17</td>\n",
       "      <td>25</td>\n",
       "      <td>0</td>\n",
       "      <td>10.0</td>\n",
       "      <td>1</td>\n",
       "      <td>63.0</td>\n",
       "      <td>63.0</td>\n",
       "      <td>0</td>\n",
       "      <td>...</td>\n",
       "      <td>4</td>\n",
       "      <td>INDEPENDENT CORPORATE DIRECTOR</td>\n",
       "      <td>BOARD OF DIRECTOR TO 1 PRIVATE 1 PUBLICALLY TR...</td>\n",
       "      <td>0</td>\n",
       "      <td>NaN</td>\n",
       "      <td>NaN</td>\n",
       "      <td>NaN</td>\n",
       "      <td>NaN</td>\n",
       "      <td>2019</td>\n",
       "      <td>0.0</td>\n",
       "    </tr>\n",
       "    <tr>\n",
       "      <th>4</th>\n",
       "      <td>537615239</td>\n",
       "      <td>1.0</td>\n",
       "      <td>11</td>\n",
       "      <td>9</td>\n",
       "      <td>0</td>\n",
       "      <td>8.0</td>\n",
       "      <td>6</td>\n",
       "      <td>59.0</td>\n",
       "      <td>59.0</td>\n",
       "      <td>0</td>\n",
       "      <td>...</td>\n",
       "      <td>4</td>\n",
       "      <td>PRESIDENT AND CEO</td>\n",
       "      <td>RUN THE COMPANY</td>\n",
       "      <td>0</td>\n",
       "      <td>NaN</td>\n",
       "      <td>NaN</td>\n",
       "      <td>NaN</td>\n",
       "      <td>NaN</td>\n",
       "      <td>2018</td>\n",
       "      <td>NaN</td>\n",
       "    </tr>\n",
       "  </tbody>\n",
       "</table>\n",
       "<p>5 rows × 77 columns</p>\n",
       "</div>"
      ],
      "text/plain": [
       "        CMID  PNUM  CTY  ST  GQ   IMO  MODE  UAGE   AGE  FAGE  ...  inx4  \\\n",
       "0  587851296   1.0   31  17   0  12.0     6  57.0  57.0     0  ...     4   \n",
       "1  559844799   1.0   47  36   0   5.0     6  40.0  40.0     0  ...     4   \n",
       "2  553756630   1.0   23  34   0   2.0     6  46.0  46.0     0  ...     3   \n",
       "3  579310994   1.0   17  25   0  10.0     1  63.0  63.0     0  ...     4   \n",
       "4  537615239   1.0   11   9   0   8.0     6  59.0  59.0     0  ...     4   \n",
       "\n",
       "                             ocw1  \\\n",
       "0                       PRESIDENT   \n",
       "1         VICE PRESIDENT RESEARCH   \n",
       "2       VP INFORMATION TECHNOLOGY   \n",
       "3  INDEPENDENT CORPORATE DIRECTOR   \n",
       "4               PRESIDENT AND CEO   \n",
       "\n",
       "                                                ocw2  tocoding  INX1  \\\n",
       "0  PROVIDE MANAGEMENT ASSISTANCE TO SMALL BUSINES...         0   NaN   \n",
       "1  EVALUATE SUCCESS OF STUDENTS AND PROGRAM FOR Y...         0   NaN   \n",
       "2          OVERSEE INFORMATION TECHNOLOGY DEPARTMENT         0   NaN   \n",
       "3  BOARD OF DIRECTOR TO 1 PRIVATE 1 PUBLICALLY TR...         0   NaN   \n",
       "4                                    RUN THE COMPANY         0   NaN   \n",
       "\n",
       "   auto_uind  auto_uocc  GQMAJTYP  year  SEQ  \n",
       "0     7390.0       10.0       NaN  2019  0.0  \n",
       "1     7860.0       10.0       NaN  2019  0.0  \n",
       "2        NaN        NaN       NaN  2019  0.0  \n",
       "3        NaN        NaN       NaN  2019  0.0  \n",
       "4        NaN        NaN       NaN  2018  NaN  \n",
       "\n",
       "[5 rows x 77 columns]"
      ]
     },
     "execution_count": 5,
     "metadata": {},
     "output_type": "execute_result"
    }
   ],
   "source": [
    "acs.head()"
   ]
  },
  {
   "cell_type": "code",
   "execution_count": 47,
   "metadata": {},
   "outputs": [
    {
     "data": {
      "text/html": [
       "<div>\n",
       "<style scoped>\n",
       "    .dataframe tbody tr th:only-of-type {\n",
       "        vertical-align: middle;\n",
       "    }\n",
       "\n",
       "    .dataframe tbody tr th {\n",
       "        vertical-align: top;\n",
       "    }\n",
       "\n",
       "    .dataframe thead th {\n",
       "        text-align: right;\n",
       "    }\n",
       "</style>\n",
       "<table border=\"1\" class=\"dataframe\">\n",
       "  <thead>\n",
       "    <tr style=\"text-align: right;\">\n",
       "      <th></th>\n",
       "      <th>title</th>\n",
       "      <th>cenocc</th>\n",
       "      <th>edrestr</th>\n",
       "      <th>indrestr</th>\n",
       "    </tr>\n",
       "  </thead>\n",
       "  <tbody>\n",
       "    <tr>\n",
       "      <th>0</th>\n",
       "      <td>Admiral</td>\n",
       "      <td>0010</td>\n",
       "      <td>None</td>\n",
       "      <td>None</td>\n",
       "    </tr>\n",
       "    <tr>\n",
       "      <th>1</th>\n",
       "      <td>Board chairman</td>\n",
       "      <td>0010</td>\n",
       "      <td>None</td>\n",
       "      <td>None</td>\n",
       "    </tr>\n",
       "    <tr>\n",
       "      <th>2</th>\n",
       "      <td>Board member</td>\n",
       "      <td>0010</td>\n",
       "      <td>None</td>\n",
       "      <td>None</td>\n",
       "    </tr>\n",
       "    <tr>\n",
       "      <th>3</th>\n",
       "      <td>Bureau chief</td>\n",
       "      <td>0010</td>\n",
       "      <td>None</td>\n",
       "      <td>[{'range': 'int({0}) in range(9370,9590+1)', '...</td>\n",
       "    </tr>\n",
       "    <tr>\n",
       "      <th>4</th>\n",
       "      <td>CEO</td>\n",
       "      <td>0010</td>\n",
       "      <td>None</td>\n",
       "      <td>None</td>\n",
       "    </tr>\n",
       "  </tbody>\n",
       "</table>\n",
       "</div>"
      ],
      "text/plain": [
       "            title cenocc edrestr  \\\n",
       "0         Admiral   0010    None   \n",
       "1  Board chairman   0010    None   \n",
       "2    Board member   0010    None   \n",
       "3    Bureau chief   0010    None   \n",
       "4             CEO   0010    None   \n",
       "\n",
       "                                            indrestr  \n",
       "0                                               None  \n",
       "1                                               None  \n",
       "2                                               None  \n",
       "3  [{'range': 'int({0}) in range(9370,9590+1)', '...  \n",
       "4                                               None  "
      ]
     },
     "execution_count": 47,
     "metadata": {},
     "output_type": "execute_result"
    }
   ],
   "source": [
    "# convert occupation and industry codes to four-digit strings\n",
    "# convert 'cenocc' to character and add leading zeroes\n",
    "# (a) define function for adding leading zeroes to a 4-character string\n",
    "def leadingzeroes( occ_code ):\n",
    "    if len( occ_code ) == 4:\n",
    "        return( occ_code )\n",
    "    else:\n",
    "        return( '{0}{1}'.format( '0' * ( 4 - len( occ_code ) ) , occ_code ) )\n",
    "\n",
    "# (b) add leading zeroes to cenocc and print result\n",
    "occdf['cenocc'] = occdf['cenocc'].apply(lambda x: leadingzeroes(str(int(x))))\n",
    "occdf.head()"
   ]
  },
  {
   "cell_type": "code",
   "execution_count": 48,
   "metadata": {},
   "outputs": [
    {
     "data": {
      "text/html": [
       "<div>\n",
       "<style scoped>\n",
       "    .dataframe tbody tr th:only-of-type {\n",
       "        vertical-align: middle;\n",
       "    }\n",
       "\n",
       "    .dataframe tbody tr th {\n",
       "        vertical-align: top;\n",
       "    }\n",
       "\n",
       "    .dataframe thead th {\n",
       "        text-align: right;\n",
       "    }\n",
       "</style>\n",
       "<table border=\"1\" class=\"dataframe\">\n",
       "  <thead>\n",
       "    <tr style=\"text-align: right;\">\n",
       "      <th></th>\n",
       "      <th>OCC</th>\n",
       "      <th>IND</th>\n",
       "    </tr>\n",
       "  </thead>\n",
       "  <tbody>\n",
       "    <tr>\n",
       "      <th>41866</th>\n",
       "      <td>2632</td>\n",
       "      <td>7370</td>\n",
       "    </tr>\n",
       "    <tr>\n",
       "      <th>68079</th>\n",
       "      <td>3940</td>\n",
       "      <td>7780</td>\n",
       "    </tr>\n",
       "    <tr>\n",
       "      <th>38578</th>\n",
       "      <td>2300</td>\n",
       "      <td>8470</td>\n",
       "    </tr>\n",
       "    <tr>\n",
       "      <th>110968</th>\n",
       "      <td>7140</td>\n",
       "      <td>3580</td>\n",
       "    </tr>\n",
       "    <tr>\n",
       "      <th>29927</th>\n",
       "      <td>1825</td>\n",
       "      <td>8080</td>\n",
       "    </tr>\n",
       "    <tr>\n",
       "      <th>97769</th>\n",
       "      <td>6040</td>\n",
       "      <td>0170</td>\n",
       "    </tr>\n",
       "    <tr>\n",
       "      <th>63990</th>\n",
       "      <td>3655</td>\n",
       "      <td>8191</td>\n",
       "    </tr>\n",
       "    <tr>\n",
       "      <th>131704</th>\n",
       "      <td>8910</td>\n",
       "      <td>3980</td>\n",
       "    </tr>\n",
       "    <tr>\n",
       "      <th>119194</th>\n",
       "      <td>7810</td>\n",
       "      <td>1180</td>\n",
       "    </tr>\n",
       "    <tr>\n",
       "      <th>36887</th>\n",
       "      <td>2100</td>\n",
       "      <td>7270</td>\n",
       "    </tr>\n",
       "    <tr>\n",
       "      <th>105572</th>\n",
       "      <td>6730</td>\n",
       "      <td>0770</td>\n",
       "    </tr>\n",
       "    <tr>\n",
       "      <th>71574</th>\n",
       "      <td>4150</td>\n",
       "      <td>8590</td>\n",
       "    </tr>\n",
       "    <tr>\n",
       "      <th>5248</th>\n",
       "      <td>0300</td>\n",
       "      <td>7290</td>\n",
       "    </tr>\n",
       "    <tr>\n",
       "      <th>52748</th>\n",
       "      <td>3200</td>\n",
       "      <td>8191</td>\n",
       "    </tr>\n",
       "    <tr>\n",
       "      <th>79599</th>\n",
       "      <td>4720</td>\n",
       "      <td>5090</td>\n",
       "    </tr>\n",
       "    <tr>\n",
       "      <th>27248</th>\n",
       "      <td>1660</td>\n",
       "      <td>7380</td>\n",
       "    </tr>\n",
       "    <tr>\n",
       "      <th>32744</th>\n",
       "      <td>1980</td>\n",
       "      <td>9370</td>\n",
       "    </tr>\n",
       "    <tr>\n",
       "      <th>47421</th>\n",
       "      <td>2861</td>\n",
       "      <td>7290</td>\n",
       "    </tr>\n",
       "    <tr>\n",
       "      <th>52439</th>\n",
       "      <td>3160</td>\n",
       "      <td>8170</td>\n",
       "    </tr>\n",
       "    <tr>\n",
       "      <th>50619</th>\n",
       "      <td>3070</td>\n",
       "      <td>7970</td>\n",
       "    </tr>\n",
       "  </tbody>\n",
       "</table>\n",
       "</div>"
      ],
      "text/plain": [
       "         OCC   IND\n",
       "41866   2632  7370\n",
       "68079   3940  7780\n",
       "38578   2300  8470\n",
       "110968  7140  3580\n",
       "29927   1825  8080\n",
       "97769   6040  0170\n",
       "63990   3655  8191\n",
       "131704  8910  3980\n",
       "119194  7810  1180\n",
       "36887   2100  7270\n",
       "105572  6730  0770\n",
       "71574   4150  8590\n",
       "5248    0300  7290\n",
       "52748   3200  8191\n",
       "79599   4720  5090\n",
       "27248   1660  7380\n",
       "32744   1980  9370\n",
       "47421   2861  7290\n",
       "52439   3160  8170\n",
       "50619   3070  7970"
      ]
     },
     "execution_count": 48,
     "metadata": {},
     "output_type": "execute_result"
    }
   ],
   "source": [
    "# (c) add leading zeroes to the OCC and IND fields in the acs sample\n",
    "acs['OCC'] = acs['OCC'].apply(lambda x: leadingzeroes(str(int(x))))\n",
    "acs['IND'] = acs['IND'].apply(lambda x: leadingzeroes(str(int(x))))\n",
    "\n",
    "acs[['OCC','IND']].sample(n=50).head(20)"
   ]
  },
  {
   "cell_type": "markdown",
   "metadata": {},
   "source": [
    "Next, we import the \"pickled\" best model from a random forest classification model. I did a systematic grid search evaluating models across two sets of paramters: `n_estimators` and `max_depth`. The parameter `n_estimators` is the number of individual decision trees that make up the forest, while `max_depth` is the maximum number of branches a tree will have. The following dictionary shows the combinations of parameters I tested for the grid search.\n",
    "\n",
    "Even on this small sample, the random forest grid search across these parameters took considerable time (over 24 hours). In fact, at the time of this writing, a grid search across the same parameters but using the `GradienBoostingClassifier()` is still running after 125 hours of continuous operation. As such, I could not be exhaustive in testing many parameters and different methods due to the size of the data.\n",
    "\n",
    "From the parameters used, the \"best model\" chosen by grid search was the one with 900 estimators and a max depth of 100."
   ]
  },
  {
   "cell_type": "code",
   "execution_count": 7,
   "metadata": {
    "collapsed": true
   },
   "outputs": [],
   "source": [
    "parameters = {'n_estimators' : [20, 600, 900],\n",
    "              'max_depth' : [5, 25, 50, 100]}"
   ]
  },
  {
   "cell_type": "code",
   "execution_count": 44,
   "metadata": {
    "collapsed": true
   },
   "outputs": [],
   "source": [
    "# import pickled results from random forest grid search\n",
    "mdl = joblib.load('mdl_occ_best_rf_tfidf_lemma.pkl')"
   ]
  },
  {
   "cell_type": "code",
   "execution_count": 9,
   "metadata": {},
   "outputs": [
    {
     "data": {
      "text/plain": [
       "{'bootstrap': True,\n",
       " 'ccp_alpha': 0.0,\n",
       " 'class_weight': None,\n",
       " 'criterion': 'gini',\n",
       " 'max_depth': 100,\n",
       " 'max_features': 'auto',\n",
       " 'max_leaf_nodes': None,\n",
       " 'max_samples': None,\n",
       " 'min_impurity_decrease': 0.0,\n",
       " 'min_impurity_split': None,\n",
       " 'min_samples_leaf': 1,\n",
       " 'min_samples_split': 2,\n",
       " 'min_weight_fraction_leaf': 0.0,\n",
       " 'n_estimators': 900,\n",
       " 'n_jobs': None,\n",
       " 'oob_score': False,\n",
       " 'random_state': None,\n",
       " 'verbose': 0,\n",
       " 'warm_start': False}"
      ]
     },
     "execution_count": 9,
     "metadata": {},
     "output_type": "execute_result"
    }
   ],
   "source": [
    "mdl.get_params()"
   ]
  },
  {
   "cell_type": "markdown",
   "metadata": {},
   "source": [
    "## 1. Execute Index Autocoder\n",
    "This section executes the occupation autocoder functions. Recall that job titles are matched to the occupation index. If a single occupation code can be assigned from the index, we record where the match was made and set aside the matched results in a separate dataframe object.\n",
    "\n",
    "The index autocoder uses a series of user defined functions that are described in a previous notebook. Below we load them. The JSON file loaded earlier in this notebook contains the pre-processed occupation index. The only step remaining is to create the composite `ocw3` variable, which is a combined string of `ocw1` and `ocw2` separated by space, in the ACS sample. In addition, occupation index titles should be capitalized to match the format of ACS write-ins (alternatively the ACS write-ins could be converted to lowercase).\n",
    "\n",
    "Recall that the index autocoder seprately merges the index on each of the occupation write-in fields, processes the results, and then merges the codes to the main analysis file. All of this is covered in detail in the index autocoder notebook."
   ]
  },
  {
   "cell_type": "markdown",
   "metadata": {},
   "source": [
    "### Create `ocw3`"
   ]
  },
  {
   "cell_type": "code",
   "execution_count": 49,
   "metadata": {
    "collapsed": true
   },
   "outputs": [],
   "source": [
    "# create ocw3\n",
    "acs['ocw3'] = acs.ocw1 + ' ' + acs.ocw2"
   ]
  },
  {
   "cell_type": "markdown",
   "metadata": {},
   "source": [
    "### Load Index Autocoder Functions"
   ]
  },
  {
   "cell_type": "code",
   "execution_count": 50,
   "metadata": {
    "collapsed": true
   },
   "outputs": [],
   "source": [
    "# load functions comprising the index autocoder\n",
    "\n",
    "# define function to resolve education restrictions\n",
    "# NOTES: resolves to (True, False, None). input parameters are:\n",
    "#        edr = text string containing education reference in parseable code\n",
    "#        ed  = value of years of schooling variable in ACS (e.g., SCHL)\n",
    "def resolveed( edr , ed ):\n",
    "    if edr is None:\n",
    "        return None\n",
    "    return eval( edr.format( ed ) )\n",
    "\n",
    "\n",
    "# define function to resolve industry restrictions\n",
    "# NOTES: resolves to (True, False). input paramters are:\n",
    "#        indr = JSON object of industry/cow restrictions and exceptions\n",
    "#        ind  = ACS variable for industry (e.g., IND); expecting a string\n",
    "#        cow  = ACS variable for class of worker (e.g., COW)\n",
    "def resolveind( indr , ind , cow ):\n",
    "    if indr is None:\n",
    "        return None\n",
    "    else:\n",
    "        # define a checks dictionary\n",
    "        check_vals = { 'code' : ind ,\n",
    "                       'range' : int(ind) ,\n",
    "                       'cow' : cow }\n",
    "\n",
    "        # initialize a results list\n",
    "        ind_check = []\n",
    "\n",
    "        # loop over elements of 'indr' (i.e., the json object)\n",
    "        # NOTE: we exclude the 'text' key; this should be changed in production\n",
    "        for i in indr:\n",
    "            checks = [ x for x in i.keys() if i[x] is not None and x != 'text' ]\n",
    "\n",
    "            # if 'text' is the only restriction, then consider False. if no restrictions, then True\n",
    "            # NOTE: this is because we omit 'text'; treating it as 'False' here prevents a false positive\n",
    "            #       though might induce a false negative. one method to incorporate the 'text' field is\n",
    "            #       to add a parameter that takes the value of 'inw2' from the acs\n",
    "            if len( checks ) == 0:\n",
    "                if i['text'] is None:\n",
    "                    ind_check.append( True )\n",
    "                else:\n",
    "                    ind_check.append( False )\n",
    "            else:\n",
    "                check_dict = {}\n",
    "\n",
    "                for j in checks:\n",
    "                    if j != 'exc':\n",
    "                        check_dict[j] = eval( i[j].format( check_vals[j] ) )\n",
    "                    else:\n",
    "                        exc_keys = [ x for x in i[j].keys() if not i[j][x] is None and x != 'text' ]\n",
    "\n",
    "                        if len( exc_keys ) == 0:\n",
    "                            if i[j]['text'] is None:\n",
    "                                check_dict[j] = True\n",
    "                            else:\n",
    "                                check_dict[j] = False\n",
    "                        else:\n",
    "                            exc_dict = {}\n",
    "                            for k in exc_keys:\n",
    "                                exc_dict[k] = eval( i[j][k].format( check_vals[k] ) )\n",
    "                            if sum( exc_dict.values() ) == len( exc_keys ):\n",
    "                                check_dict[j] = True\n",
    "                            else:\n",
    "                                check_dict[j] = False\n",
    "\n",
    "                # return True only if all components are met, False otherwise\n",
    "                if sum( check_dict.values() ) == len( checks ):\n",
    "                    ind_check.append( True )\n",
    "                else:\n",
    "                    ind_check.append( False )\n",
    "\n",
    "        # final industry restriction determination\n",
    "        # NOTE: return True if any industry restriction is true, False otherwise\n",
    "        if True in ind_check:\n",
    "            return True\n",
    "        else:\n",
    "            return False\n",
    "\n",
    "\n",
    "# define function to denote a valid match\n",
    "def assignocc(edres = None, indres = None):\n",
    "    if indres is None:\n",
    "        if edres is None:\n",
    "            return None\n",
    "        else:\n",
    "            if edres is True:\n",
    "                return True\n",
    "            else:\n",
    "                return False\n",
    "    elif indres is True:\n",
    "        if edres is None:\n",
    "            return True\n",
    "        elif edres is True:\n",
    "            return True\n",
    "        else:\n",
    "            return False\n",
    "    else:\n",
    "        return False\n",
    "\n",
    "\n",
    "# define function to output index autocode\n",
    "def indexautocode(occ1t, occ1n, occ2t, occ3t, occ3n, occ2n=None):\n",
    "    occ_out = ''\n",
    "    match_level = 0\n",
    "    \n",
    "    for i, j in zip([occ1t, occ1n, occ2t, occ2n, occ3t, occ3n],\n",
    "                    [11, 10, 21, 20, 31, 30]):\n",
    "        if not pd.isnull(i):\n",
    "            occ_out = i\n",
    "            match_level = j\n",
    "            if len(occ_out.split()) == 1:\n",
    "                break\n",
    "    \n",
    "    if match_level == 0:\n",
    "        return {'indexocc' : None ,\n",
    "                'match_code' : None }\n",
    "    else:\n",
    "        if len(occ_out.split()) > 1:\n",
    "            match_level = match_level * 10 + 2\n",
    "        else:\n",
    "            match_level = match_level * 10 + 1\n",
    "        return {'indexocc' : occ_out ,\n",
    "                'match_code' : match_level}"
   ]
  },
  {
   "cell_type": "markdown",
   "metadata": {},
   "source": [
    "### Merge Index with Occupation Write-Ins"
   ]
  },
  {
   "cell_type": "code",
   "execution_count": 51,
   "metadata": {
    "collapsed": true
   },
   "outputs": [],
   "source": [
    "# define set of keep variables from the acs\n",
    "acs_keep = ['OCC','auto_uocc','ocw1','ocw2','IND','inw2','inw3','SCHL','COW']\n",
    "occ_keep = ['title','cenocc','edrestr','indrestr','ind2017restr']\n",
    "\n",
    "# set occ index titles to uppercase\n",
    "occdf['title'] = occdf.title.apply(lambda x: x.upper())\n",
    "\n",
    "# create a sequence variable identifying each record as unique\n",
    "acs['recid']=np.arange(len(acs)).astype(str)\n",
    "\n",
    "\n",
    "# merge\n",
    "acs_keep.append('recid')\n",
    "\n",
    "acsmrg1 = pd.merge(acs[acs_keep], \n",
    "                   occdf, \n",
    "                   left_on='ocw1', \n",
    "                   right_on='title')\n",
    "\n",
    "acsmrg2 = pd.merge(acs[acs_keep], \n",
    "                   occdf, \n",
    "                   left_on='ocw2', \n",
    "                   right_on='title')\n",
    "\n",
    "acs_keep3 = acs_keep.copy()\n",
    "acs_keep3.append( 'ocw3' )\n",
    "\n",
    "acsmrg3 = pd.merge(acs[acs_keep3 ], \n",
    "                   occdf, \n",
    "                   left_on='ocw3', \n",
    "                   right_on='title')"
   ]
  },
  {
   "cell_type": "markdown",
   "metadata": {},
   "source": [
    "### Resolve and Education, Industry, or Class of Worker Resrictions"
   ]
  },
  {
   "cell_type": "code",
   "execution_count": 52,
   "metadata": {
    "collapsed": true
   },
   "outputs": [],
   "source": [
    "# resolve industry and education fields using the resolveed and resolveind functions\n",
    "acsmrg1['resed'] = np.vectorize(resolveed)(acsmrg1['edrestr'], acsmrg1['SCHL'])\n",
    "\n",
    "acsmrg2['resed'] = np.vectorize(resolveed)(acsmrg2['edrestr'], acsmrg2['SCHL'])\n",
    "\n",
    "acsmrg3['resed'] = np.vectorize(resolveed)(acsmrg3['edrestr'], acsmrg3['SCHL'])\n",
    "\n",
    "acsmrg1['resind'] = np.where(acsmrg1.indrestr.isnull() ,\n",
    "                             None,\n",
    "                             np.vectorize(resolveind)(acsmrg1['indrestr'], acsmrg1['IND'], acsmrg1['COW']))\n",
    "\n",
    "acsmrg2['resind'] = np.where(acsmrg2.indrestr.isnull(),\n",
    "                             None,\n",
    "                             np.vectorize(resolveind)(acsmrg2['indrestr'], acsmrg2['IND'], acsmrg2['COW']))\n",
    "\n",
    "acsmrg3['resind'] = np.where(acsmrg3.indrestr.isnull(),\n",
    "                             None,\n",
    "                             np.vectorize(resolveind)(acsmrg3['indrestr'], acsmrg3['IND'], acsmrg3['COW']))"
   ]
  },
  {
   "cell_type": "markdown",
   "metadata": {},
   "source": [
    "### Assign Index Autocode"
   ]
  },
  {
   "cell_type": "code",
   "execution_count": 53,
   "metadata": {
    "collapsed": true
   },
   "outputs": [],
   "source": [
    "# determine whether a matching index entry can be assigned to a write-in\n",
    "acsmrg1['assignocc'] = np.where(acsmrg1.resed.isnull() & acsmrg1.resind.isnull(),\n",
    "                                None,\n",
    "                                np.vectorize(assignocc)(acsmrg1['resed'], acsmrg1['resind']))\n",
    "\n",
    "acsmrg2['assignocc'] = np.where(acsmrg2.resed.isnull() & acsmrg2.resind.isnull(),\n",
    "                                None,\n",
    "                                np.vectorize(assignocc)(acsmrg2['resed'], acsmrg2['resind']))\n",
    "\n",
    "acsmrg3['assignocc'] = np.where(acsmrg3.resed.isnull() & acsmrg3.resind.isnull(),\n",
    "                                None,\n",
    "                                np.vectorize(assignocc)(acsmrg3['resed'], acsmrg3['resind']))"
   ]
  },
  {
   "cell_type": "markdown",
   "metadata": {},
   "source": [
    "### Collapse Autocode Results to Single Record and Join with ACS File"
   ]
  },
  {
   "cell_type": "code",
   "execution_count": 54,
   "metadata": {
    "collapsed": true
   },
   "outputs": [],
   "source": [
    "# collapse cenocc into space-delmited string for cases where assignocc = True\n",
    "acstrue1 = acsmrg1[acsmrg1.assignocc==True][['recid','cenocc']].astype(str).groupby('recid').agg(lambda x: ' '.join( x.unique())).copy().reset_index()\n",
    "acstrue2 = acsmrg2[acsmrg2.assignocc==True][['recid','cenocc']].astype(str).groupby('recid').agg(lambda x: ' '.join( x.unique())).copy().reset_index()\n",
    "acstrue3 = acsmrg3[acsmrg3.assignocc==True][['recid','cenocc']].astype(str).groupby('recid').agg(lambda x: ' '.join( x.unique())).copy().reset_index()"
   ]
  },
  {
   "cell_type": "code",
   "execution_count": 55,
   "metadata": {
    "collapsed": true
   },
   "outputs": [],
   "source": [
    "# collapse cenocc into space-delmited string for cases where assignocc = None\n",
    "acsnone1 = acsmrg1[acsmrg1['assignocc'].isnull()][['recid','cenocc']].astype(str).groupby('recid').agg(lambda x: ' '.join( x.unique())).copy().reset_index()\n",
    "acsnone2 = acsmrg2[acsmrg2['assignocc'].isnull()][['recid','cenocc']].astype(str).groupby('recid').agg(lambda x: ' '.join( x.unique())).copy().reset_index()\n",
    "acsnone3 = acsmrg3[acsmrg3['assignocc'].isnull()][['recid','cenocc']].astype(str).groupby('recid').agg(lambda x: ' '.join( x.unique())).copy().reset_index()"
   ]
  },
  {
   "cell_type": "code",
   "execution_count": 56,
   "metadata": {
    "collapsed": true
   },
   "outputs": [],
   "source": [
    "# rename 'cenocc' column in each data frame\n",
    "# NOTE: each table has the same name for column 'cenocc'; we want the code to be table-specific\n",
    "for i in range(1, 4):\n",
    "    for j in ['true', 'none']:\n",
    "        tabname = 'acs{0}{1}'.format(j, i)\n",
    "        occname = 'occ{0}{1}'.format(i, j)\n",
    "        globals()[tabname].rename(columns={'cenocc' : occname}, inplace=True)"
   ]
  },
  {
   "cell_type": "code",
   "execution_count": 57,
   "metadata": {},
   "outputs": [
    {
     "data": {
      "text/plain": [
       "['acs', 'acstrue1', 'acsnone1', 'acstrue2', 'acsnone2', 'acstrue3', 'acsnone3']"
      ]
     },
     "execution_count": 57,
     "metadata": {},
     "output_type": "execute_result"
    }
   ],
   "source": [
    "# get list of tables to merge with ACS\n",
    "# NOTE: only merge tables where matches were found\n",
    "dat_list = ['acs']\n",
    "\n",
    "for i in range(1, 4):\n",
    "    for j in ['true', 'none']:\n",
    "        tabname = 'acs{0}{1}'.format(j, i)\n",
    "        if len( globals()[tabname] ) > 0:\n",
    "            dat_list.append( tabname )\n",
    "\n",
    "dat_list"
   ]
  },
  {
   "cell_type": "code",
   "execution_count": 58,
   "metadata": {
    "collapsed": true
   },
   "outputs": [],
   "source": [
    "# merge tables together\n",
    "from functools import reduce\n",
    "\n",
    "acs_mrg = reduce( lambda left, right: pd.merge(left, right, on=['recid'], how='outer'),\n",
    "                                               [globals()[x] for x in dat_list] )"
   ]
  },
  {
   "cell_type": "code",
   "execution_count": 59,
   "metadata": {},
   "outputs": [
    {
     "name": "stdout",
     "output_type": "stream",
     "text": [
      "original acs file has same number of records as the merged file: True\n",
      "shape of resulting merge file: (142500, 85)\n"
     ]
    }
   ],
   "source": [
    "# check the shape of the resulting merge file\n",
    "print( 'original acs file has same number of records as the merged file:', len(acs) == len(acs_mrg) )\n",
    "print( 'shape of resulting merge file:' , acs_mrg.shape )"
   ]
  },
  {
   "cell_type": "markdown",
   "metadata": {},
   "source": [
    "### Make Final Index Autocode Assignment"
   ]
  },
  {
   "cell_type": "code",
   "execution_count": 60,
   "metadata": {
    "collapsed": true
   },
   "outputs": [],
   "source": [
    "# run index autocoder selection on the acs data\n",
    "acs_mrg['indexocc']=np.vectorize(indexautocode)(acs_mrg.occ1true,\n",
    "                                                acs_mrg.occ1none,\n",
    "                                                acs_mrg.occ2true,\n",
    "                                                acs_mrg.occ3true,\n",
    "                                                acs_mrg.occ3none)"
   ]
  },
  {
   "cell_type": "code",
   "execution_count": 61,
   "metadata": {
    "collapsed": true
   },
   "outputs": [],
   "source": [
    "# extract results of index autocoder to separate variables (i.e., autocode and match code)\n",
    "acs_mrg['indexautoocc'] = acs_mrg['indexocc'].apply(lambda x: x['indexocc'])\n",
    "acs_mrg['indexautomcode'] = acs_mrg['indexocc'].apply(lambda x: x['match_code'])"
   ]
  },
  {
   "cell_type": "markdown",
   "metadata": {},
   "source": [
    "### Examine the Distribution of Index Autocode Results"
   ]
  },
  {
   "cell_type": "code",
   "execution_count": 62,
   "metadata": {},
   "outputs": [
    {
     "data": {
      "text/html": [
       "<div>\n",
       "<style scoped>\n",
       "    .dataframe tbody tr th:only-of-type {\n",
       "        vertical-align: middle;\n",
       "    }\n",
       "\n",
       "    .dataframe tbody tr th {\n",
       "        vertical-align: top;\n",
       "    }\n",
       "\n",
       "    .dataframe thead th {\n",
       "        text-align: right;\n",
       "    }\n",
       "</style>\n",
       "<table border=\"1\" class=\"dataframe\">\n",
       "  <thead>\n",
       "    <tr style=\"text-align: right;\">\n",
       "      <th></th>\n",
       "      <th>Match Code</th>\n",
       "      <th>Frequency</th>\n",
       "      <th>match_type</th>\n",
       "      <th>match_source</th>\n",
       "    </tr>\n",
       "  </thead>\n",
       "  <tbody>\n",
       "    <tr>\n",
       "      <th>0</th>\n",
       "      <td>101</td>\n",
       "      <td>22638</td>\n",
       "      <td>unique</td>\n",
       "      <td>ocw1</td>\n",
       "    </tr>\n",
       "    <tr>\n",
       "      <th>1</th>\n",
       "      <td>111</td>\n",
       "      <td>14597</td>\n",
       "      <td>unique</td>\n",
       "      <td>ocw1</td>\n",
       "    </tr>\n",
       "    <tr>\n",
       "      <th>2</th>\n",
       "      <td>112</td>\n",
       "      <td>5078</td>\n",
       "      <td>list</td>\n",
       "      <td>ocw1</td>\n",
       "    </tr>\n",
       "    <tr>\n",
       "      <th>3</th>\n",
       "      <td>211</td>\n",
       "      <td>2926</td>\n",
       "      <td>unique</td>\n",
       "      <td>ocw2</td>\n",
       "    </tr>\n",
       "    <tr>\n",
       "      <th>4</th>\n",
       "      <td>212</td>\n",
       "      <td>1001</td>\n",
       "      <td>list</td>\n",
       "      <td>ocw2</td>\n",
       "    </tr>\n",
       "    <tr>\n",
       "      <th>5</th>\n",
       "      <td>102</td>\n",
       "      <td>67</td>\n",
       "      <td>list</td>\n",
       "      <td>ocw1</td>\n",
       "    </tr>\n",
       "    <tr>\n",
       "      <th>6</th>\n",
       "      <td>301</td>\n",
       "      <td>53</td>\n",
       "      <td>unique</td>\n",
       "      <td>ocw3</td>\n",
       "    </tr>\n",
       "    <tr>\n",
       "      <th>7</th>\n",
       "      <td>311</td>\n",
       "      <td>24</td>\n",
       "      <td>unique</td>\n",
       "      <td>ocw3</td>\n",
       "    </tr>\n",
       "    <tr>\n",
       "      <th>8</th>\n",
       "      <td>312</td>\n",
       "      <td>16</td>\n",
       "      <td>list</td>\n",
       "      <td>ocw3</td>\n",
       "    </tr>\n",
       "  </tbody>\n",
       "</table>\n",
       "</div>"
      ],
      "text/plain": [
       "   Match Code  Frequency match_type match_source\n",
       "0         101      22638     unique         ocw1\n",
       "1         111      14597     unique         ocw1\n",
       "2         112       5078       list         ocw1\n",
       "3         211       2926     unique         ocw2\n",
       "4         212       1001       list         ocw2\n",
       "5         102         67       list         ocw1\n",
       "6         301         53     unique         ocw3\n",
       "7         311         24     unique         ocw3\n",
       "8         312         16       list         ocw3"
      ]
     },
     "execution_count": 62,
     "metadata": {},
     "output_type": "execute_result"
    }
   ],
   "source": [
    "# distribution of match types\n",
    "match_codes = pd.DataFrame(acs_mrg.indexautomcode.value_counts()).reset_index()\n",
    "match_codes.columns = ['Match Code', 'Frequency']\n",
    "match_codes['Match Code'] = match_codes['Match Code'].apply(lambda x: int(x))\n",
    "match_codes['match_type'] = np.where(match_codes['Match Code'].apply(lambda x: str(x)[-1]) == '2',\n",
    "                                     'list',\n",
    "                                     'unique')\n",
    "match_codes['match_source'] = match_codes['Match Code'].apply(lambda x: 'ocw{}'.format(str(x)[0]))\n",
    "match_codes"
   ]
  },
  {
   "cell_type": "markdown",
   "metadata": {},
   "source": [
    "### Get Index Autocode Match Rate\n",
    "We get the set of unique occupation code matches from the index autocoder."
   ]
  },
  {
   "cell_type": "code",
   "execution_count": 64,
   "metadata": {},
   "outputs": [
    {
     "name": "stdout",
     "output_type": "stream",
     "text": [
      "index autocoder occupation assignment rate: 28.2%\n"
     ]
    }
   ],
   "source": [
    "# overall match rate for unique matches across all sources\n",
    "print('index autocoder occupation assignment rate:',\n",
    "      '{:.1%}'.format(float(match_codes[(match_codes.match_type == 'unique')]['Frequency'].sum() / len( acs_mrg ))))"
   ]
  },
  {
   "cell_type": "markdown",
   "metadata": {},
   "source": [
    "### Subset ACS File by Index Autocode Match"
   ]
  },
  {
   "cell_type": "code",
   "execution_count": 65,
   "metadata": {
    "collapsed": true
   },
   "outputs": [],
   "source": [
    "# set of acs write-ins with a unique index autocode\n",
    "acs_auto_index = acs_mrg[acs_mrg.indexautomcode.apply(lambda x: x in [101,111,211,301,311])==True].copy()"
   ]
  },
  {
   "cell_type": "code",
   "execution_count": 66,
   "metadata": {
    "collapsed": true
   },
   "outputs": [],
   "source": [
    "# set of acs unmatched write-ins\n",
    "acs_unmatch = acs_mrg[acs_mrg.indexautomcode.apply(lambda x: x in [101,111,211,301,311])==False]['recid'].copy()"
   ]
  },
  {
   "cell_type": "code",
   "execution_count": 67,
   "metadata": {},
   "outputs": [
    {
     "data": {
      "text/plain": [
       "True"
      ]
     },
     "execution_count": 67,
     "metadata": {},
     "output_type": "execute_result"
    }
   ],
   "source": [
    "# verify that the total number of records in each file matches that of the full file\n",
    "len(acs_auto_index) + len(acs_unmatch) == len(acs)"
   ]
  },
  {
   "cell_type": "markdown",
   "metadata": {},
   "source": [
    "## 2. Random Forest Occupation Autocoder\n",
    "In the previous section we saw that about 28 percent of write-ins for our sample data were matched to a unique Census occupation code. In this section, we apply our best random forest model to predict occupation codes from the remaining unmatched set of occupation write-ins.\n",
    "\n",
    "We must first prepare the ACS write-in data so that it comprises the same fields used by the random forest estimator. These fields include all engineered features as well as the vectorized text features used by the `nltk` algorithms. Because the vectorization was done on the full sample, we must first vectorize the complete file then isolate the set of unmatched records to be processed through the model. Vectorization for this model was done on lemmatized text. I present a user-defind function `cleantext()` that lemmatizes the occupation write-ins (note that we use `ocw3` as the text field). In order to use the built-in TF-IDF vectorizer on lemmatized text, it is necessary to define a \"dummy\" function."
   ]
  },
  {
   "cell_type": "markdown",
   "metadata": {},
   "source": [
    "### Import Libraries"
   ]
  },
  {
   "cell_type": "code",
   "execution_count": 68,
   "metadata": {
    "collapsed": true
   },
   "outputs": [],
   "source": [
    "from matplotlib import pyplot\n",
    "from sklearn import preprocessing\n",
    "\n",
    "from sklearn.model_selection import train_test_split\n",
    "\n",
    "import string\n",
    "import nltk\n",
    "\n",
    "stopwords = nltk.corpus.stopwords.words( 'english' )\n",
    "wn = nltk.WordNetLemmatizer()\n",
    "\n",
    "from sklearn.feature_extraction.text import TfidfVectorizer"
   ]
  },
  {
   "cell_type": "markdown",
   "metadata": {},
   "source": [
    "### Import MSA Population\n",
    "The only external source of data used for feature engineering is Metropolitan Statistical Area (MSA) population estimates taken from the [U.S. Census Bureau](https://www.census.gov/geographies/reference-files/time-series/demo/metro-micro/delineation-files.html). It is well known from the urban economics literature that specialized occupations are more likely to be found in larger urban areas. The MSA is a useful (though imperfect) proxy for a city. MSAs are comprised of one or more counties where one county represents the urban \"core\" with a population of 50,000 or more residents and any other counties are included if they are adjacent to MSA counties and meet certain thresholds of daily commuting to the urban core. I match MSA code based on a crosswalk between state and county FIPS codes in the ACS. MSA population is calculated as the sum of population for each county in the MSA. Population estimates are taken from public-use data published on the Census Web site."
   ]
  },
  {
   "cell_type": "code",
   "execution_count": 69,
   "metadata": {
    "collapsed": true
   },
   "outputs": [],
   "source": [
    "# import msa population file\n",
    "msadf = pd.read_json( 'msapop.json' )\n",
    "\n",
    "'''\n",
    "# for fun, plot distribution of city sizes in 2019\n",
    "pyplot.hist(msadf[msadf.year==2019][['popest']])\n",
    "pyplot.title('MSA population distribution, 2019')\n",
    "pyplot.show()\n",
    "'''\n",
    "\n",
    "# drop cbsa_title\n",
    "msadf.drop(columns='cbsa_title', inplace=True, axis=1)\n",
    "\n",
    "# merge msa indicators and population estimates to acsonet\n",
    "acsdat = pd.merge( acs ,\n",
    "                   msadf ,\n",
    "                   how = 'left' ,\n",
    "                   left_on = ['ST', 'CTY', 'year'] ,\n",
    "                   right_on = ['stfips', 'ctyfips', 'year'] )\n",
    "\n",
    "# drop stfips and ctyfips from file\n",
    "acsdat.drop(columns=['stfips','ctyfips'], axis=1, inplace=True)"
   ]
  },
  {
   "cell_type": "markdown",
   "metadata": {},
   "source": [
    "### Feature Engineering\n",
    "In this section I develop additional features to add to the model. The chosen set of features are based on a my experience working with individual labor market data and capture relevant characteristics that might predict differences in occupation. In addition, I add features related to the interview, such as interview mode, that might predict the quality of certain write-ins (e.g., spelling). Research also shows that respondents tend to not report earnings at higher rates than other survey content and that earnings \"non-response\" tends to be highest in the tails of the earnings distribution. If some occupations systematically occupy areas of the earnings distribution then earnings levels and the incidence of earnings non-response might be predictive of occupation. \n",
    "\n",
    "Other features include binary indicators of education level, age (scaled to be between zero and one), and a binary indicator for female. To deal with large continuous figures, such as MSA population size and earnings, I break each measure into a series of mutually exclusive categorical variables and then define separate binary indicators for each. I use a custom approach for doing so (instead of, say, `OneHotEncoding`), so that I can control the names of the features created, which aids in selecting a parsimonious data set for analysis. MSA population categories are standard as used by the Current Population Survey. I break the earnings distribution (both `UWAG` and `USEM`) into quantiles and then generate dummies for each quantile. Note that I used unedited earnings because many of the features that I use here are likely inputs for Census imputation methods and I prefer to avoid over-using correlated features. Using unedited earnings also allows for identifying a simple \"missing earnings\" indicator.\n",
    "\n",
    "Conversations with IOSB staff indicated that many write-ins are in Spanish and that these may be disproportionately from respondents in Puerto Rico. To control for this, I use a binary indicator for Peurto Rico. However, MSAs definitions are restricted to the 50 United States and the District of Columbia."
   ]
  },
  {
   "cell_type": "code",
   "execution_count": 70,
   "metadata": {
    "collapsed": true
   },
   "outputs": [],
   "source": [
    "# create urban indicator (urban is \"has MSA\")\n",
    "acsdat['urban'] = np.where(acsdat['cbsa'].isnull() , 0 , 1 )\n",
    "\n",
    "# create msa size categorical variable\n",
    "# NOTE: non-urban records will be NaN\n",
    "msasz_bins = [0, 99999, 249999, 499999, 999999,\n",
    "              2499999, 4999999, msadf.popest.max()]\n",
    "\n",
    "msasz_categ = pd.cut(acsdat['popest'],\n",
    "                     bins = msasz_bins ,\n",
    "                     labels = range(1,len(msasz_bins)))\n",
    "\n",
    "acsdat.insert(acsdat.shape[-1], 'msasize', msasz_categ)\n",
    "\n",
    "# set NaN msasize to zero (these are non-urban cases)\n",
    "acsdat['msasize'] = np.where( acsdat['msasize'].isnull() , 0 ,\n",
    "                              acsdat['msasize'] )\n",
    "\n",
    "# create dummy for puerto rico\n",
    "# NOTE: we don't use pr msas and pr is a bit unique (e.g., spanish write-ins)\n",
    "acsdat['pr'] = np.where( acsdat.ST == 72 , 1 , 0 )"
   ]
  },
  {
   "cell_type": "code",
   "execution_count": 71,
   "metadata": {
    "collapsed": true
   },
   "outputs": [],
   "source": [
    "# missing earnings\n",
    "# NOTE: missing if UWAG.isnull() and USEM.isnull()\n",
    "acsdat['missearn'] = np.where( acsdat.USEM.isnull() & acsdat.UWAG.isnull() ,\n",
    "                               1 , 0 )\n",
    "\n",
    "# due to missing earnings, use indicators for percentile in distribution\n",
    "# NOTES: paramters: \n",
    "#        tabname = dataframe object name (as string), \n",
    "#        variable = variable to summarize (as string),\n",
    "#        quantiles = list of quantiles;\n",
    "#\n",
    "#        returns a list of values corresponding to the pth percentile.\n",
    "#        requies the numpy and pandas packages. returns values for non-missing\n",
    "#        (i.e., isnull() == False) records \n",
    "def getquantiles( tabname , variable , quantiles ):\n",
    "    if isinstance(quantiles,(list)):\n",
    "        quant_values = [np.percentile(globals()[tabname][globals()[tabname][variable].isnull() == False][[variable]], x) for x in quantiles]\n",
    "        return quant_values\n",
    "    else:\n",
    "        raise ValueError( 'parameter quantiles must be a list' )\n",
    "\n",
    "dec_labels = [5]\n",
    "dec_labels += [x for x in range(10,100,10)]\n",
    "dec_labels += [95, 99]\n",
    "\n",
    "dec_values = getquantiles( 'acsdat' , 'UWAG' , dec_labels )\n",
    "\n",
    "dec_labels += [100]\n",
    "dec_values += [acsdat['UWAG'].max()]\n",
    "\n",
    "dec_categ = pd.cut(acsdat['UWAG'],\n",
    "                   bins = [0] + dec_values ,\n",
    "                   labels = dec_labels )\n",
    "\n",
    "dec_categ = dec_categ.cat.add_categories(0).fillna(0)\n",
    "\n",
    "acsdat.insert(acsdat.shape[-1], 'uwagquantile', dec_categ)\n",
    "\n",
    "\n",
    "# female binary indicator\n",
    "acsdat['female'] = np.where( acsdat.AGE == 2, 1, 0)\n",
    "\n",
    "\n",
    "# education categorical variable\n",
    "ed_bins = [0, 15, 17, 19, 20, 21, 22, 23, 24]\n",
    "ed_labels = ['lesshs', 'hsged', 'somecol', 'col2y', \n",
    "             'col4y', 'mast', 'prof', 'doct' ]\n",
    "\n",
    "ed_categ = pd.cut(acsdat['SCHL'],\n",
    "                  bins = ed_bins ,\n",
    "                  labels = ed_labels )\n",
    "\n",
    "acsdat.insert(acsdat.shape[-1], 'edcat', ed_categ)\n",
    "\n",
    "\n",
    "# indicators for self-employment earnings\n",
    "# has non-missing USEM\n",
    "acsdat['hassem'] = np.where( acsdat['USEM'].isnull() , 0 , 1 )\n",
    "\n",
    "'''\n",
    "# explore the distribution of USEM\n",
    "acsdat[acsdat.hassem==1][['USEM']].describe()\n",
    "\n",
    "pyplot.hist(acsdat[(acsdat.hassem==1) & (acsdat.USEM > 0) & (acsdat.USEM <100000)][['USEM']])\n",
    "pyplot.title('USEM distribution')\n",
    "pyplot.show()\n",
    "'''\n",
    "\n",
    "# break up USEM into quantiles and create categorical variable\n",
    "# define a function to return percentiles from a list of integers\n",
    "decsem_labels = [x for x in range(10, 100, 10)]\n",
    "\n",
    "decsem_values = getquantiles( 'acsdat' , 'USEM' , decsem_labels )\n",
    "\n",
    "decsem_labels += [100]\n",
    "decsem_values += [acsdat['USEM'].max()]\n",
    "\n",
    "decsem_categ = pd.cut(acsdat['USEM'],\n",
    "                      bins = [acsdat['USEM'].min()] + decsem_values ,\n",
    "                      labels = decsem_labels )\n",
    "\n",
    "decsem_categ = decsem_categ.cat.add_categories(0).fillna(0)\n",
    "\n",
    "acsdat.insert(acsdat.shape[-1], 'usemquantile', decsem_categ)\n",
    "\n",
    "\n",
    "# (k) normalized age variable\n",
    "# NOTE: use MinMaxScaler to normalize\n",
    "min_max_scaler = preprocessing.MinMaxScaler()\n",
    "\n",
    "acsdat['minmaxage'] = min_max_scaler.fit_transform(acsdat[['AGE']])\n",
    "\n",
    "'''\n",
    "pyplot.hist(acsdat['minmaxage'])\n",
    "pyplot.title('AGE distribution (MinMaxScaler())')\n",
    "pyplot.show()\n",
    "'''\n",
    "\n",
    "# (l) convert categorical variables to dummies\n",
    "# store list of feature columns names to be used later\n",
    "feature_list = ['pr', 'female', 'missearn', 'urban', 'hassem', 'minmaxage']\n",
    "\n",
    "# (l1) class of worker\n",
    "cow_vals = pd.DataFrame(acsdat.COW.unique().tolist(), columns = ['COW'])\n",
    "cow_vals.sort_values(axis=0, by='COW', inplace=True )\n",
    "cow_vals.reset_index(inplace=True, drop=True)\n",
    "\n",
    "cow_dum = pd.get_dummies(cow_vals, prefix=['cow'], columns=['COW'])\n",
    "\n",
    "cow_vals = cow_vals.join(cow_dum)\n",
    "\n",
    "feature_list += list( cow_dum.columns )\n",
    "\n",
    "acsdat = acsdat.merge(cow_vals, how='left', on='COW')\n",
    "\n",
    "# interview mode\n",
    "mode_vals = pd.DataFrame(acsdat.MODE.unique().tolist(), columns = ['MODE'])\n",
    "mode_vals.sort_values(axis=0, by='MODE', inplace=True )\n",
    "mode_vals.reset_index(inplace=True, drop=True)\n",
    "\n",
    "mode_dum = pd.get_dummies(mode_vals, prefix=['mode'], columns=['MODE'])\n",
    "\n",
    "feature_list += list( mode_dum.columns )\n",
    "\n",
    "mode_vals = mode_vals.join(mode_dum)\n",
    "\n",
    "acsdat = acsdat.merge(mode_vals, how='left', on='MODE')\n",
    "\n",
    "# (l3) msasize\n",
    "msasz_vals = pd.DataFrame(acsdat.msasize.unique().tolist(), columns = ['msasize'])\n",
    "msasz_vals.sort_values(axis=0, by='msasize', inplace=True )\n",
    "msasz_vals.reset_index(inplace=True, drop=True)\n",
    "\n",
    "msasz_vals['msasize'] = msasz_vals['msasize'].apply(lambda x: int(x))\n",
    "\n",
    "msasz_dum = pd.get_dummies(msasz_vals, prefix=['msasz'], columns=['msasize'])\n",
    "\n",
    "msasz_vals = msasz_vals.join(msasz_dum)\n",
    "msasz_vals.drop(columns='msasz_0', inplace=True, axis=1)\n",
    "\n",
    "feature_list += list( msasz_dum.columns )[1:]\n",
    "\n",
    "acsdat = acsdat.merge(msasz_vals, how='left', on='msasize')\n",
    "\n",
    "\n",
    "# (l4) education categories\n",
    "ed_vals = pd.DataFrame(acsdat.edcat.unique().tolist(), columns = ['edcat'])\n",
    "ed_vals.sort_values(axis=0, by='edcat', inplace=True )\n",
    "ed_vals.reset_index(inplace=True, drop=True)\n",
    "\n",
    "ed_dum = pd.get_dummies(ed_vals, prefix=['ed'], columns=['edcat'])\n",
    "\n",
    "ed_vals = ed_vals.join(ed_dum)\n",
    "\n",
    "feature_list += list( ed_dum.columns )\n",
    "\n",
    "acsdat = acsdat.merge(ed_vals, how='left', on='edcat')\n",
    "\n",
    "\n",
    "# wage quantiles\n",
    "wag_vals = pd.DataFrame(acsdat.uwagquantile.unique().tolist(), columns = ['uwagquantile'])\n",
    "wag_vals.sort_values(axis=0, by='uwagquantile', inplace=True )\n",
    "wag_vals.reset_index(inplace=True, drop=True)\n",
    "\n",
    "wag_dum = pd.get_dummies(wag_vals, prefix=['uwagq'], columns=['uwagquantile'])\n",
    "\n",
    "wag_vals = wag_vals.join(wag_dum)\n",
    "\n",
    "wag_vals.drop(columns='uwagq_0', axis=1, inplace=True)\n",
    "\n",
    "feature_list += list( wag_dum.columns )[1:]\n",
    "\n",
    "acsdat = acsdat.merge(wag_vals, how='left', on='uwagquantile')\n",
    "\n",
    "\n",
    "# self-employment earnings quantiles\n",
    "sem_vals = pd.DataFrame(acsdat.usemquantile.unique().tolist(), columns = ['usemquantile'])\n",
    "sem_vals.sort_values(axis=0, by='usemquantile', inplace=True )\n",
    "sem_vals.reset_index(inplace=True, drop=True)\n",
    "\n",
    "sem_dum = pd.get_dummies(sem_vals, prefix=['usemq'], columns=['usemquantile'])\n",
    "\n",
    "sem_vals = sem_vals.join(sem_dum)\n",
    "\n",
    "sem_vals.drop(columns='usemq_0', axis=1, inplace=True)\n",
    "\n",
    "feature_list += list( sem_dum.columns )[1:]\n",
    "\n",
    "acsdat = acsdat.merge(sem_vals, how='left', on='usemquantile')\n"
   ]
  },
  {
   "cell_type": "code",
   "execution_count": 72,
   "metadata": {
    "collapsed": true
   },
   "outputs": [],
   "source": [
    "# clean up to save memory\n",
    "del msasz_categ, ed_categ, decsem_categ, dec_categ"
   ]
  },
  {
   "cell_type": "code",
   "execution_count": 73,
   "metadata": {},
   "outputs": [
    {
     "name": "stdout",
     "output_type": "stream",
     "text": [
      "number of engineered features: 58\n"
     ]
    }
   ],
   "source": [
    "# print number of created features\n",
    "print('number of engineered features:' , len( feature_list ) )"
   ]
  },
  {
   "cell_type": "markdown",
   "metadata": {},
   "source": [
    "### Clean and Vectorize Text"
   ]
  },
  {
   "cell_type": "code",
   "execution_count": 74,
   "metadata": {
    "collapsed": true
   },
   "outputs": [],
   "source": [
    "# clean text, tokenize, lemmatize\n",
    "# (a) function to clean (remove punct and drop stopwords)s and tokenize\n",
    "# NOTE: paramter 'lemma' will lemmatize the tokens; default is True\n",
    "def cleantext( text , lemma = False ):\n",
    "    text = ''.join([x.lower() for x in text if x not in string.punctuation])\n",
    "    tokens = re.split( '\\W+' , text , flags = re.I )\n",
    "    text = [x for x in tokens if x not in stopwords]\n",
    "    \n",
    "    if lemma:\n",
    "        text = [wn.lemmatize(word) for word in text]\n",
    "        \n",
    "    return text\n",
    "\n",
    "\n",
    "\n",
    "# [3] vectorize\n",
    "\n",
    "# prep text\n",
    "# function to create composite text string from multiples fields\n",
    "def combinetext(ocw1, ocw2):\n",
    "    text_fields = [x for x in [ocw1, ocw2] if not pd.isnull(x)]\n",
    "    text = ' '.join( text_fields )\n",
    "    return text\n",
    "\n",
    "acsdat['occtext'] = np.vectorize(combinetext)(acsdat.ocw1, acsdat.ocw2)\n",
    "\n",
    "# (b) tf-idf\n",
    "# (b1) clean and lemmatize text\n",
    "\n",
    "# (b2) create dummy function to allow tfidf vectorizer to use cleaned text\n",
    "# NOTE: this allows us to use our lemmatized text\n",
    "def dummy_fun(doc):\n",
    "    return doc\n",
    "\n",
    "# (b3) apply tf-idf vectorizer\n",
    "tfidf_vect = TfidfVectorizer(\n",
    "    analyzer = 'word' ,\n",
    "    tokenizer = dummy_fun ,\n",
    "    preprocessor = dummy_fun ,\n",
    "    token_pattern = None )\n",
    "\n",
    "\n",
    "acsdat['occwi_clean'] = acsdat['occtext'].apply(lambda x: cleantext(str(x)))\n",
    "\n",
    "X_tfidf = tfidf_vect.fit_transform(acsdat['occwi_clean'])"
   ]
  },
  {
   "cell_type": "code",
   "execution_count": 77,
   "metadata": {},
   "outputs": [
    {
     "name": "stdout",
     "output_type": "stream",
     "text": [
      "number of features from vectorization: 34126\n"
     ]
    }
   ],
   "source": [
    "# print number of features created by the vectorizer\n",
    "# NOTE: this is what makes the models take so long to solve\n",
    "print('number of features from vectorization:' , X_tfidf.shape[1])"
   ]
  },
  {
   "cell_type": "markdown",
   "metadata": {},
   "source": [
    "### Subset File for Set of Unmatched Records\n",
    "Now that we have all of our features created, we need to reduce the data file to the set of records that were not matched by the index autocoder."
   ]
  },
  {
   "cell_type": "code",
   "execution_count": 78,
   "metadata": {
    "collapsed": true
   },
   "outputs": [],
   "source": [
    "features = ['recid','OCC'] + feature_list\n",
    "acsdat_tfidf = pd.concat([acsdat[features], pd.DataFrame(X_tfidf.toarray())], axis=1)"
   ]
  },
  {
   "cell_type": "code",
   "execution_count": 35,
   "metadata": {},
   "outputs": [
    {
     "data": {
      "text/plain": [
       "(142500, 34186)"
      ]
     },
     "execution_count": 35,
     "metadata": {},
     "output_type": "execute_result"
    }
   ],
   "source": [
    "acsdat_tfidf.shape"
   ]
  },
  {
   "cell_type": "code",
   "execution_count": 79,
   "metadata": {
    "collapsed": true
   },
   "outputs": [],
   "source": [
    "# select analysis file for unmatched records\n",
    "acsdat_tfidf_mrg = pd.merge(acsdat_tfidf, acs_unmatch, on=['recid'])"
   ]
  },
  {
   "cell_type": "code",
   "execution_count": 80,
   "metadata": {},
   "outputs": [
    {
     "data": {
      "text/plain": [
       "True"
      ]
     },
     "execution_count": 80,
     "metadata": {},
     "output_type": "execute_result"
    }
   ],
   "source": [
    "# verify that the subset is limited to only unmatched records\n",
    "len(acs_unmatch) == len(acsdat_tfidf_mrg)"
   ]
  },
  {
   "cell_type": "code",
   "execution_count": 81,
   "metadata": {
    "collapsed": true
   },
   "outputs": [],
   "source": [
    "# store vector of \"true\" unmatched occupation codes to verify accuracy later\n",
    "occ_true = acsdat_tfidf_mrg['OCC']"
   ]
  },
  {
   "cell_type": "code",
   "execution_count": 82,
   "metadata": {
    "collapsed": true
   },
   "outputs": [],
   "source": [
    "# drop features not used by the model\n",
    "acsdat_tfidf_mrg.drop(columns=['recid','OCC'], axis=1, inplace=True)"
   ]
  },
  {
   "cell_type": "markdown",
   "metadata": {},
   "source": [
    "### Make Predictions from Random Forest Model"
   ]
  },
  {
   "cell_type": "code",
   "execution_count": 83,
   "metadata": {
    "collapsed": true
   },
   "outputs": [],
   "source": [
    "# predict occupation code for unmatched set of write-ins\n",
    "occ_predict = mdl.predict(acsdat_tfidf_mrg)"
   ]
  },
  {
   "cell_type": "code",
   "execution_count": 84,
   "metadata": {
    "collapsed": true
   },
   "outputs": [],
   "source": [
    "# get predicted probabilities\n",
    "occ_pred_probs = mdl.predict_proba(acsdat_tfidf_mrg)"
   ]
  },
  {
   "cell_type": "code",
   "execution_count": 85,
   "metadata": {},
   "outputs": [
    {
     "data": {
      "text/plain": [
       "'0.719'"
      ]
     },
     "execution_count": 85,
     "metadata": {},
     "output_type": "execute_result"
    }
   ],
   "source": [
    "# get the maximum predicted probability for any given case in the sampe\n",
    "'{:.3f}'.format(max([max(x) for x in occ_pred_probs]))"
   ]
  },
  {
   "cell_type": "code",
   "execution_count": 86,
   "metadata": {},
   "outputs": [
    {
     "data": {
      "text/plain": [
       "729"
      ]
     },
     "execution_count": 86,
     "metadata": {},
     "output_type": "execute_result"
    }
   ],
   "source": [
    "# how many predictions have probability greater than .50\n",
    "len([x for x in occ_pred_probs if max(x)>0.5])"
   ]
  },
  {
   "cell_type": "markdown",
   "metadata": {},
   "source": [
    "### Check Accuracy of Predictions\n",
    "The above results show that the maximum predicted probablity for a given record is 71.9 percent and only 729 predictions (write-ins) have a predicted probability greater than 50 percent. Nonetheless, let's assess how well the model predicted occupation codes for the remaining unmatched set of predictors."
   ]
  },
  {
   "cell_type": "code",
   "execution_count": 87,
   "metadata": {
    "collapsed": true
   },
   "outputs": [],
   "source": [
    "# import function to get accuracy scores\n",
    "from sklearn.metrics import accuracy_score"
   ]
  },
  {
   "cell_type": "code",
   "execution_count": 88,
   "metadata": {},
   "outputs": [
    {
     "data": {
      "text/plain": [
       "0         0010\n",
       "1         0010\n",
       "2         0010\n",
       "3         0010\n",
       "4         0010\n",
       "          ... \n",
       "102257    9920\n",
       "102258    9920\n",
       "102259    9920\n",
       "102260    9920\n",
       "102261    9920\n",
       "Name: OCC, Length: 102262, dtype: object"
      ]
     },
     "execution_count": 88,
     "metadata": {},
     "output_type": "execute_result"
    }
   ],
   "source": [
    "occ_true"
   ]
  },
  {
   "cell_type": "code",
   "execution_count": 89,
   "metadata": {},
   "outputs": [
    {
     "data": {
      "text/plain": [
       "array([  10,   10,   10, ..., 9920, 9920, 9920])"
      ]
     },
     "execution_count": 89,
     "metadata": {},
     "output_type": "execute_result"
    }
   ],
   "source": [
    "occ_predict"
   ]
  },
  {
   "cell_type": "code",
   "execution_count": 90,
   "metadata": {
    "scrolled": true
   },
   "outputs": [
    {
     "name": "stdout",
     "output_type": "stream",
     "text": [
      "accuracy of model predictions: 77.5%\n"
     ]
    }
   ],
   "source": [
    "# accuracy score of the predictions\n",
    "print('accuracy of model predictions:',\n",
    "      '{:.1%}'.format(accuracy_score(np.array([int(x) for x in occ_true]), occ_predict)))"
   ]
  },
  {
   "cell_type": "code",
   "execution_count": 91,
   "metadata": {},
   "outputs": [
    {
     "data": {
      "text/plain": [
       "array([0.1716646 , 0.00146594, 0.00206559, 0.00133687, 0.00122716,\n",
       "       0.00108947, 0.00190991, 0.00942193, 0.00151318, 0.00152947,\n",
       "       0.00138343, 0.00132856, 0.00114423, 0.00181215, 0.00114216,\n",
       "       0.00133086, 0.00108292, 0.00134314, 0.00126431, 0.00256249,\n",
       "       0.00115316, 0.00121849, 0.00124264, 0.00140158, 0.00133755,\n",
       "       0.00231527, 0.0078493 , 0.00100437, 0.00271704, 0.0025506 ,\n",
       "       0.0015874 , 0.0015579 , 0.00180144, 0.00165763, 0.00119098,\n",
       "       0.00123792, 0.00122034, 0.00131723, 0.00148656, 0.00099843,\n",
       "       0.00155551, 0.00140476, 0.00147169, 0.00124435, 0.0013529 ,\n",
       "       0.0015722 , 0.00147185, 0.00275679, 0.00184773, 0.00155713,\n",
       "       0.00164787, 0.00114735, 0.00141391, 0.000943  , 0.00161598,\n",
       "       0.00143571, 0.00104611, 0.00161293, 0.00122926, 0.00110806,\n",
       "       0.00111703, 0.00171393, 0.00363503, 0.00139684, 0.00142592,\n",
       "       0.00121529, 0.00104391, 0.00128475, 0.0013953 , 0.00120847,\n",
       "       0.00147631, 0.00123667, 0.00153886, 0.00083245, 0.00157883,\n",
       "       0.00108484, 0.00310745, 0.002041  , 0.00268047, 0.00167793,\n",
       "       0.0012658 , 0.00092655, 0.00139302, 0.00260852, 0.00103902,\n",
       "       0.00300667, 0.00119711, 0.0012056 , 0.00109511, 0.00090319,\n",
       "       0.00103974, 0.00114238, 0.001032  , 0.0011154 , 0.0012624 ,\n",
       "       0.00116716, 0.000956  , 0.00112023, 0.00144335, 0.00100712,\n",
       "       0.00124294, 0.00148469, 0.00130298, 0.00117672, 0.00281536,\n",
       "       0.00271609, 0.00174336, 0.00659171, 0.00714996, 0.0060705 ,\n",
       "       0.00241938, 0.00388245, 0.00187322, 0.00217468, 0.00460303,\n",
       "       0.00244778, 0.00286386, 0.00120153, 0.00272349, 0.00290707,\n",
       "       0.00486202, 0.00192514, 0.00440074, 0.00168639, 0.00217553,\n",
       "       0.00155917, 0.00131075, 0.00110867, 0.00255936, 0.00368423,\n",
       "       0.00164882, 0.00182219, 0.00552978, 0.00182812, 0.00175515,\n",
       "       0.00212388, 0.00210531, 0.00454104, 0.0018252 , 0.00624385,\n",
       "       0.00167001, 0.00118153, 0.00193479, 0.00259142, 0.00289196,\n",
       "       0.00308834, 0.00279082, 0.00102038, 0.00159839, 0.0015547 ,\n",
       "       0.00131312, 0.00162547, 0.00185515, 0.00533254, 0.00142207,\n",
       "       0.00177795, 0.00211359, 0.00261009, 0.00204192, 0.00291696,\n",
       "       0.00510717, 0.00233509, 0.00150597, 0.00210879, 0.00361479,\n",
       "       0.00142697, 0.00115434, 0.00133695, 0.00096315, 0.00096466,\n",
       "       0.00094638, 0.00115136, 0.001293  , 0.00133347, 0.00298565,\n",
       "       0.00164159, 0.00171196, 0.0015029 , 0.00128914, 0.00182892,\n",
       "       0.001859  , 0.00121866, 0.00160043, 0.00142569, 0.00174567,\n",
       "       0.00207848, 0.00141944, 0.00136391, 0.00202148, 0.00171753,\n",
       "       0.00097088, 0.00163756, 0.00134686, 0.00122896, 0.001508  ,\n",
       "       0.00137861, 0.00091763, 0.00071243, 0.00162937, 0.00080986,\n",
       "       0.00078101, 0.00065101, 0.00089484, 0.00101519, 0.00097098,\n",
       "       0.00159589, 0.00079093, 0.00122307, 0.00232911, 0.00090537,\n",
       "       0.00097172, 0.00131066, 0.0009612 , 0.00153902, 0.00123396,\n",
       "       0.00145695, 0.00063647, 0.00115332, 0.0009749 , 0.00141483,\n",
       "       0.00141903, 0.00146349, 0.00164244, 0.00176692, 0.00063985,\n",
       "       0.00158702, 0.00117755, 0.0014525 , 0.00112856, 0.00109306,\n",
       "       0.0010351 , 0.00097308, 0.00089608, 0.00141452, 0.0009617 ,\n",
       "       0.00100487, 0.00113749, 0.00103704, 0.00131425, 0.00076718,\n",
       "       0.00143619, 0.00179479, 0.00113795, 0.00128225, 0.00109635,\n",
       "       0.0013914 , 0.00096004, 0.00073662, 0.00081202, 0.0007559 ,\n",
       "       0.00110046, 0.00110469, 0.00095318, 0.00097042, 0.00097486,\n",
       "       0.00141369, 0.00138381, 0.00120618, 0.00115308, 0.00128934,\n",
       "       0.00161402, 0.00100682, 0.00105236, 0.0011265 , 0.00123058,\n",
       "       0.00160759, 0.0013428 , 0.00088918, 0.00114842, 0.00113303,\n",
       "       0.00152998, 0.0010466 , 0.00103531, 0.00134492, 0.00101374,\n",
       "       0.00118599, 0.00088195, 0.00130897, 0.00110753, 0.00122171,\n",
       "       0.00104104, 0.00129658, 0.00112954, 0.00118897, 0.00121729,\n",
       "       0.00086631, 0.00100116, 0.00127036, 0.00123218, 0.00287971,\n",
       "       0.00132715, 0.00136054, 0.00118115, 0.00138494, 0.00108258,\n",
       "       0.0015007 , 0.00113203, 0.00124439, 0.00127923, 0.00104048,\n",
       "       0.00129309, 0.00144553, 0.00108495, 0.00108296, 0.00081421,\n",
       "       0.00098187, 0.00108108, 0.00104385, 0.00095876, 0.00118455,\n",
       "       0.00127473, 0.00156407, 0.00133628, 0.00137725, 0.00167205,\n",
       "       0.00151185, 0.00112464, 0.00122013, 0.00107294, 0.00128521,\n",
       "       0.00109103, 0.00109137, 0.00124525, 0.00124459, 0.00151819,\n",
       "       0.00097479, 0.00140809, 0.00105913, 0.00127989, 0.00122215,\n",
       "       0.00070433, 0.00134601, 0.00138523, 0.0013071 , 0.00136779,\n",
       "       0.00127435, 0.00139538, 0.00140491, 0.00143222, 0.0012316 ,\n",
       "       0.0013863 , 0.00107761, 0.00108595, 0.00133828, 0.0008796 ,\n",
       "       0.00148256, 0.00127656, 0.00151124, 0.00116771, 0.00123064,\n",
       "       0.00131977, 0.00126652, 0.00140399, 0.0010566 , 0.00169643,\n",
       "       0.00129783, 0.00108446, 0.00146139, 0.00143363, 0.00144365,\n",
       "       0.00164589, 0.00127562, 0.00192714, 0.00129316, 0.00118788,\n",
       "       0.00092531, 0.00104199, 0.00096177, 0.00096411, 0.00061871,\n",
       "       0.00087617, 0.00147006, 0.00129689, 0.00129151, 0.00333147,\n",
       "       0.00078568, 0.00114295, 0.00140413, 0.00121232, 0.00124588,\n",
       "       0.00102344, 0.00122877, 0.00101572, 0.00146823, 0.00122221,\n",
       "       0.00145499, 0.0028313 , 0.00208615, 0.00134327, 0.00120624,\n",
       "       0.00110038, 0.00122389, 0.00139391, 0.00137135, 0.00158506,\n",
       "       0.00127431, 0.00134904, 0.00101464, 0.00132609, 0.00121345,\n",
       "       0.00127825, 0.0009049 , 0.00140378, 0.0010687 , 0.00118768,\n",
       "       0.00114941, 0.00101132, 0.00108526, 0.00105866, 0.00121974,\n",
       "       0.00121392, 0.00123659, 0.00118767, 0.00099866, 0.00115315,\n",
       "       0.0013209 , 0.00085023, 0.00104055, 0.00119988, 0.00086345,\n",
       "       0.00099548, 0.00152241, 0.00134458, 0.00102663, 0.00128257,\n",
       "       0.00130112, 0.00103782, 0.0010131 , 0.00110847, 0.00145287,\n",
       "       0.00110444, 0.00101073, 0.00127853, 0.00129642, 0.00141989,\n",
       "       0.00133498, 0.0010676 , 0.00132321, 0.00113248, 0.00125665,\n",
       "       0.00125958, 0.00120974, 0.0010361 , 0.0009994 , 0.00102021,\n",
       "       0.00103737, 0.00116449, 0.0011106 , 0.00102248, 0.00128424,\n",
       "       0.0010049 , 0.00105078, 0.00115514, 0.0010542 , 0.00120086,\n",
       "       0.00126246, 0.00112079, 0.00087044, 0.00116017, 0.00122736,\n",
       "       0.00147573, 0.00068768, 0.00114698, 0.00094697, 0.00095506,\n",
       "       0.00123111, 0.0009961 , 0.00100978, 0.00126311, 0.00127845,\n",
       "       0.00129586, 0.00120419, 0.00120346, 0.0011825 , 0.00120559,\n",
       "       0.00104637, 0.00104602, 0.00131344, 0.00126003, 0.00120825,\n",
       "       0.00127908, 0.00080374, 0.00110242, 0.00090756, 0.00114757,\n",
       "       0.0010054 , 0.00091543, 0.00114718, 0.00116806, 0.00121473,\n",
       "       0.00089838, 0.00091998, 0.00103641, 0.00128153, 0.00108571,\n",
       "       0.00112879, 0.00115986, 0.00118091, 0.00112594, 0.00135927,\n",
       "       0.00123151, 0.0012591 , 0.00127974, 0.00131541, 0.00116171,\n",
       "       0.00125117, 0.00124155, 0.00118086, 0.0013569 , 0.00107004,\n",
       "       0.00107249, 0.00125261, 0.00121003, 0.00116092, 0.00119277,\n",
       "       0.00126297, 0.00116613, 0.00129519, 0.0012953 , 0.0011222 ,\n",
       "       0.00114844, 0.00114271, 0.00104566, 0.00129926, 0.00135645,\n",
       "       0.00099606, 0.00109312, 0.00273664, 0.00120092, 0.00090734,\n",
       "       0.00118349, 0.00139719, 0.00125158, 0.00094475, 0.00090165,\n",
       "       0.00073359, 0.00094258, 0.00090678, 0.00097743, 0.00112043,\n",
       "       0.00116628, 0.00112751, 0.00108833, 0.00077816, 0.00097744,\n",
       "       0.00124236, 0.00142019, 0.0013843 , 0.0009359 , 0.00093583,\n",
       "       0.00109602, 0.00119236, 0.0011699 , 0.00121077, 0.00075433,\n",
       "       0.00120406, 0.00087642, 0.00130557, 0.00145314, 0.00123331,\n",
       "       0.00123738, 0.00125407, 0.00122666, 0.00134526, 0.00128056,\n",
       "       0.00146118, 0.00153695, 0.0013772 , 0.00132708, 0.00110646])"
      ]
     },
     "execution_count": 91,
     "metadata": {},
     "output_type": "execute_result"
    }
   ],
   "source": [
    "# predicted probablities for the first record\n",
    "# NOTE: the classifier makes a prediction on each possible occupation code. the one with highest mean\n",
    "#       probability across all n_estimators is chosen. below i show what this looks like. note that just\n",
    "#       because the predicted probability looks \"low,\" it must be evaluated against the full distribution\n",
    "#       of predicted probabilities\n",
    "occ_pred_probs[0]"
   ]
  },
  {
   "cell_type": "code",
   "execution_count": 92,
   "metadata": {
    "collapsed": true
   },
   "outputs": [],
   "source": [
    "# get maximum  probability for each prediction\n",
    "occ_prob = np.array([max(x) for x in occ_pred_probs])"
   ]
  },
  {
   "cell_type": "code",
   "execution_count": 93,
   "metadata": {},
   "outputs": [
    {
     "data": {
      "image/png": "[encoded data removed]",
      "text/plain": [
       "<Figure size 432x288 with 1 Axes>"
      ]
     },
     "metadata": {
      "needs_background": "light"
     },
     "output_type": "display_data"
    }
   ],
   "source": [
    "# plot distribution of predicted probabilities\n",
    "import matplotlib.pyplot as plt\n",
    "%matplotlib inline\n",
    "\n",
    "plt.title('Distribution of Predicted Probabilities for OCC')\n",
    "plt.hist(occ_prob, density=True)\n",
    "plt.show()"
   ]
  },
  {
   "cell_type": "code",
   "execution_count": 136,
   "metadata": {},
   "outputs": [
    {
     "data": {
      "text/html": [
       "<div>\n",
       "<style scoped>\n",
       "    .dataframe tbody tr th:only-of-type {\n",
       "        vertical-align: middle;\n",
       "    }\n",
       "\n",
       "    .dataframe tbody tr th {\n",
       "        vertical-align: top;\n",
       "    }\n",
       "\n",
       "    .dataframe thead th {\n",
       "        text-align: right;\n",
       "    }\n",
       "</style>\n",
       "<table border=\"1\" class=\"dataframe\">\n",
       "  <thead>\n",
       "    <tr style=\"text-align: right;\">\n",
       "      <th></th>\n",
       "      <th>OCC</th>\n",
       "      <th>rf_occ</th>\n",
       "      <th>rf_prob</th>\n",
       "    </tr>\n",
       "  </thead>\n",
       "  <tbody>\n",
       "    <tr>\n",
       "      <th>50720</th>\n",
       "      <td>4255.0</td>\n",
       "      <td>4255.0</td>\n",
       "      <td>0.040234</td>\n",
       "    </tr>\n",
       "    <tr>\n",
       "      <th>92576</th>\n",
       "      <td>8720.0</td>\n",
       "      <td>9620.0</td>\n",
       "      <td>0.002671</td>\n",
       "    </tr>\n",
       "    <tr>\n",
       "      <th>80627</th>\n",
       "      <td>7320.0</td>\n",
       "      <td>7320.0</td>\n",
       "      <td>0.226871</td>\n",
       "    </tr>\n",
       "    <tr>\n",
       "      <th>68250</th>\n",
       "      <td>6020.0</td>\n",
       "      <td>6020.0</td>\n",
       "      <td>0.199684</td>\n",
       "    </tr>\n",
       "    <tr>\n",
       "      <th>4416</th>\n",
       "      <td>300.0</td>\n",
       "      <td>300.0</td>\n",
       "      <td>0.201486</td>\n",
       "    </tr>\n",
       "  </tbody>\n",
       "</table>\n",
       "</div>"
      ],
      "text/plain": [
       "          OCC  rf_occ   rf_prob\n",
       "50720  4255.0  4255.0  0.040234\n",
       "92576  8720.0  9620.0  0.002671\n",
       "80627  7320.0  7320.0  0.226871\n",
       "68250  6020.0  6020.0  0.199684\n",
       "4416    300.0   300.0  0.201486"
      ]
     },
     "execution_count": 136,
     "metadata": {},
     "output_type": "execute_result"
    }
   ],
   "source": [
    "# create dataframe and examine predicted probabilities for cases that the model gets correct\n",
    "pred_df = pd.DataFrame(data=[np.array([int(x) for x in occ_true]), occ_predict, occ_prob]).T\n",
    "pred_df.columns = ['OCC','rf_occ','rf_prob']\n",
    "pred_df.sample(n=50).head()"
   ]
  },
  {
   "cell_type": "code",
   "execution_count": 137,
   "metadata": {},
   "outputs": [
    {
     "data": {
      "text/plain": [
       "count    79246.000000\n",
       "mean         0.132567\n",
       "std          0.120516\n",
       "min          0.002417\n",
       "25%          0.036229\n",
       "50%          0.094061\n",
       "75%          0.201015\n",
       "max          0.718849\n",
       "Name: rf_prob, dtype: float64"
      ]
     },
     "execution_count": 137,
     "metadata": {},
     "output_type": "execute_result"
    }
   ],
   "source": [
    "# summarise predicted probabilities for cases where the model predicts correctly\n",
    "pred_df[pred_df.OCC==pred_df.rf_occ]['rf_prob'].describe()"
   ]
  },
  {
   "cell_type": "code",
   "execution_count": 138,
   "metadata": {},
   "outputs": [
    {
     "data": {
      "text/plain": [
       "count    23016.000000\n",
       "mean         0.034140\n",
       "std          0.051966\n",
       "min          0.002389\n",
       "25%          0.003258\n",
       "50%          0.012208\n",
       "75%          0.040386\n",
       "max          0.511093\n",
       "Name: rf_prob, dtype: float64"
      ]
     },
     "execution_count": 138,
     "metadata": {},
     "output_type": "execute_result"
    }
   ],
   "source": [
    "# summarise predicted probabilities for cases where model predicts incorrectly\n",
    "pred_df[pred_df.OCC!=pred_df.rf_occ]['rf_prob'].describe()"
   ]
  },
  {
   "cell_type": "code",
   "execution_count": 141,
   "metadata": {},
   "outputs": [
    {
     "data": {
      "image/png": "[encoded data removed]",
      "text/plain": [
       "<Figure size 432x288 with 1 Axes>"
      ]
     },
     "metadata": {
      "needs_background": "light"
     },
     "output_type": "display_data"
    }
   ],
   "source": [
    "plt.hist(pred_df[pred_df.OCC!=pred_df.rf_occ]['rf_prob'], label = 'incorrect', density=True, alpha=0.5)\n",
    "plt.hist(pred_df[pred_df.OCC==pred_df.rf_occ]['rf_prob'], label = 'correct', density=True, alpha=0.5)\n",
    "plt.legend(loc='upper right')\n",
    "plt.title('Distribution of RF Predicted Probabilities by Accuracy')\n",
    "plt.xlabel('prediction probability')\n",
    "plt.ylabel('share of all predictions')\n",
    "plt.show()"
   ]
  },
  {
   "cell_type": "markdown",
   "metadata": {},
   "source": [
    "The above results show that relying on conventional probability thresholds for occupation predictions ($Pr=0.88$) would be overly strict for this model. The average predicted probability for cases where occupation codes are predicted correctly is $Pr=0.13$ compared to average predicted probability of $Pr=0.03$ for cases that were matched incorrectly. \n",
    "\n",
    "The plot above shows the distribution of predicted probabilities by prediction accuracy. Although predicted probabilities are low for most cases, those predicted correctly occupy the bulk of predicted probabilities in excess of $Pr=0.2$. Thus, these methods may be useful for prediction with a change in threshold predicted probability for accepting on a match.\n",
    "\n",
    "Also note that many cases predicted accurately have predicted probabilities less than 0.2. Another option for selection would be to accept occupation code predictions based on the relationship of the maximum predicted probability to the probability distribution within a write-in. For example, each write-in has a predicted probability that it could belong to any one of the 570 occupation classes modeled here. Instead of choosing a one-size-fits-all threshold, we could instead select code assignments where the predicted probability lies sufficiently far away from the mean of other predictions. \n",
    "\n",
    "The function `probsigma(prob_dist, dev_dist)` returns a 1 or 0 depending on whether the max value of a probability distribution `prob_dist` is greater than `dev_dist` standard deviations from its mean. Exploration of different values indicated that predicted probabilities were more likely to lie within three or *more* standard deviations from the mean of a set of predictions than they are to be greater than some fixed threshold. Below I show the incidence of predictions where the maximum probability of a prediction is within six standard deviations (\"six sigma\") from the mean set of predictions and the set of records for which the maximum predicted probability is greater than or equal to 0.17."
   ]
  },
  {
   "cell_type": "code",
   "execution_count": 100,
   "metadata": {
    "collapsed": true
   },
   "outputs": [],
   "source": [
    "# insted of selection probability cutoff, let's identify predicted probabilities within x sigma of mean\n",
    "# instead of threshold, determine if max is greater than x*sigma from the mean of a prob distribution\n",
    "def probsigma(prob_dist, dev_dist):\n",
    "    if max(prob_dist) > np.std(prob_dist) * dev_dist + np.mean(prob_dist):\n",
    "        return 1\n",
    "    else:\n",
    "        return 0"
   ]
  },
  {
   "cell_type": "markdown",
   "metadata": {},
   "source": [
    "The above results demonstrate that we could retain a higher fraction of predictions choosing a flexible probability cutoff within each prediction versus a one-size-fits-all cutoff. About 25 percent of predictions from the random forest model would be retained using a probability cutoff of 0.17 compared to about 92 percent by selecting cases where the maximum probability is greater than six standard deviations from the mean. Of course, based on the graphic above, it is possible that those with predicted probabilities greater than 0.17 would almost universally be \"accurate\" predictions. Next, we compare the accuracy of predictions for these two cutoff values."
   ]
  },
  {
   "cell_type": "code",
   "execution_count": 85,
   "metadata": {},
   "outputs": [
    {
     "data": {
      "text/plain": [
       "0.9687733218115401"
      ]
     },
     "execution_count": 85,
     "metadata": {},
     "output_type": "execute_result"
    }
   ],
   "source": [
    "# prediction accuracy for max(Pr(x))>=0.17 cutoff\n",
    "float(len(pred_df[(pred_df.rf_prob>=0.17) & (pred_df.OCC==pred_df.rf_occ)]) /\n",
    "      len(pred_df[pred_df.rf_prob>=0.17]))"
   ]
  },
  {
   "cell_type": "code",
   "execution_count": 87,
   "metadata": {},
   "outputs": [
    {
     "data": {
      "text/plain": [
       "0.8324013471436742"
      ]
     },
     "execution_count": 87,
     "metadata": {},
     "output_type": "execute_result"
    }
   ],
   "source": [
    "# prediction accuracy for max(Pr(x))> 6 * sigma cutoff\n",
    "float(len(pred_df[(pred_df.rf_prob_6sigma==1) & (pred_df.OCC==pred_df.rf_occ)]) /\n",
    "      len(pred_df[pred_df.rf_prob_6sigma==1]))"
   ]
  },
  {
   "cell_type": "markdown",
   "metadata": {},
   "source": [
    "### Choosing a Cutoff Probability\n",
    "The above results show that choosing cutoff maximum probability of 0.17 or greater results in accurate predictions for 97 percent of cases meeting this threshold. Those cases greater than six standard deviations from the mean are accurate 83 percent of the time.\n",
    "\n",
    "This demonstrates that we face a tradeoff between selecting threshold levels, match accuracy, and the number of records we are able to retain from the predicted model. Below, we explore different combinations of fixed and flexible thresholds to evaluate this tradeoff more closely.\n",
    "\n",
    "#### Fixed Threshold Values"
   ]
  },
  {
   "cell_type": "code",
   "execution_count": 142,
   "metadata": {},
   "outputs": [
    {
     "data": {
      "image/png": "[encoded data removed]",
      "text/plain": [
       "<Figure size 432x288 with 1 Axes>"
      ]
     },
     "metadata": {
      "needs_background": "light"
     },
     "output_type": "display_data"
    }
   ],
   "source": [
    "# fixed threshold values\n",
    "fixed_thresholds = [x/100 for x in range(1,21)]\n",
    "fixed_accuracy = []\n",
    "fixed_obsshare = []\n",
    "\n",
    "for i in fixed_thresholds:\n",
    "    fixed_accuracy.append(float(len(pred_df[(pred_df.rf_prob>=i) & (pred_df.OCC==pred_df.rf_occ)]) /\n",
    "                                len(pred_df[pred_df.rf_prob>=i])))\n",
    "    fixed_obsshare.append(float(len(pred_df[pred_df.rf_prob>=i])/len(pred_df)))\n",
    "\n",
    "# create dataframe\n",
    "fixed_thresh_df = pd.DataFrame([fixed_thresholds, fixed_accuracy, fixed_obsshare]).T\n",
    "fixed_thresh_df.columns = ['threshold','accuracy','obs_share']\n",
    "\n",
    "# plot accuracy and observations share by threshold\n",
    "plt.plot(fixed_thresh_df.threshold, fixed_thresh_df.accuracy, '--', label = 'accuracy')\n",
    "plt.plot(fixed_thresh_df.threshold, fixed_thresh_df.obs_share, label='share predicted')\n",
    "plt.grid(True)\n",
    "plt.xlabel('probability cutoff threshold')\n",
    "plt.ylabel('accuracy/prediction rate')\n",
    "plt.title('Accuracy and Prediction Rate Tradeoff: Fixed Cutoff')\n",
    "plt.legend()\n",
    "plt.show()"
   ]
  },
  {
   "cell_type": "markdown",
   "metadata": {},
   "source": [
    "The figure above shows the relationship between fixed threshold cutoff value and prediction accuracy (dashed line) and the share of observations that would be matched and not sent to clerical coding (solid line). The figure depicts probability threshold ranges between 0.01 and 0.20. Accuracy rates increase steadily with prediction probability, going from about 0.85 at 0.01 probability cutoff and exceeding 95 percent accuracy at a cutoff threshold of 0.02. \n",
    "\n",
    "However, the share of cases that would receive an autocode assignment falls much faster with increases in the threshold than is gained in prediction accuracy. A decision would have to be made in terms of the relative tradeoff between the cost savings from sending fewer cases to clerical coding versus prediction accuracy. One guide is that the production autocoder does not send cases to clerical coding if the predicted probability is 0.88. The figure above indicates that specifying a maximum probability threshold of 0.025 would be associated with a 90 percent accuracy rate and would save about 70 percent (of the 72 percent that were not matched via the index autocoder) of cases from going to clerical coding. Currently, the production autocoder sends between 50 and 60 percent of cases to clerical coding. An alternative would be to target the same number of cases going to clerical coding, which would be associated with a probability threshold between 0.05 and 0.075. While accuracy rates are in excess of 90 percent in this cutoff range, the gain in accuracy may not meet the cost savings in clerical coding by choosing a lower threshold.\n",
    "\n",
    "#### Flexible Cutoffs"
   ]
  },
  {
   "cell_type": "code",
   "execution_count": 143,
   "metadata": {
    "collapsed": true
   },
   "outputs": [],
   "source": [
    "# examine a range of cutoffs at x standard deviations from the mean\n",
    "sigma_list = [x for x in range(3,21)]\n",
    "\n",
    "# execute probsigma function for each\n",
    "sigma_out = []\n",
    "sigma_obs = []\n",
    "sigma_cols = ['rf_prob_{}sig'.format(x) for x in sigma_list]\n",
    "\n",
    "for i in sigma_list:\n",
    "    occ_probs_sigma = [probsigma(x, i) for x in occ_pred_probs]\n",
    "    sigma_out.append( occ_probs_sigma )\n",
    "    sigma_obs.append( float(sum(occ_probs_sigma)/len(occ_probs_sigma)) )\n",
    "\n",
    "del i , occ_probs_sigma"
   ]
  },
  {
   "cell_type": "code",
   "execution_count": 144,
   "metadata": {
    "collapsed": true
   },
   "outputs": [],
   "source": [
    "# create dataframe to get accuracy scores\n",
    "occ_sig_df = pd.DataFrame(data=[np.array([int(x) for x in occ_true]), occ_predict] + sigma_out).T\n",
    "occ_sig_df.columns = ['OCC', 'rf_occ'] + sigma_cols"
   ]
  },
  {
   "cell_type": "code",
   "execution_count": 145,
   "metadata": {
    "collapsed": true
   },
   "outputs": [],
   "source": [
    "# get prediction accuracy at each threshold\n",
    "sigma_accuracy = []\n",
    "\n",
    "for i in sigma_list:\n",
    "    sigvar = 'rf_prob_{}sig'.format(i)\n",
    "    \n",
    "    sigma_accuracy.append(float(len(occ_sig_df[(occ_sig_df[sigvar]==1) & (occ_sig_df.OCC==occ_sig_df.rf_occ)]) /\n",
    "                                len(occ_sig_df[occ_sig_df[sigvar]==1])))"
   ]
  },
  {
   "cell_type": "code",
   "execution_count": 146,
   "metadata": {},
   "outputs": [
    {
     "data": {
      "image/png": "[encoded data removed]",
      "text/plain": [
       "<Figure size 432x288 with 1 Axes>"
      ]
     },
     "metadata": {
      "needs_background": "light"
     },
     "output_type": "display_data"
    }
   ],
   "source": [
    "# create dataframe\n",
    "sigma_thresh_df = pd.DataFrame([sigma_list, sigma_accuracy, sigma_obs]).T\n",
    "sigma_thresh_df.columns = ['x_sigma','accuracy','obs_share']\n",
    "\n",
    "# plot accuracy and observations share by threshold\n",
    "plt.plot(sigma_thresh_df.x_sigma, sigma_thresh_df.accuracy, '--', label='accuracy')\n",
    "plt.plot(sigma_thresh_df.x_sigma, sigma_thresh_df.obs_share, label='predicted')\n",
    "plt.grid(True)\n",
    "plt.legend()\n",
    "plt.title('Accuracy and Prediction Rate Tradeoff: Flexible Cutoff')\n",
    "plt.xlabel('number of standard deviations from mean')\n",
    "plt.ylabel('accuracy/prediction rate')\n",
    "plt.show()"
   ]
  },
  {
   "cell_type": "markdown",
   "metadata": {},
   "source": [
    "The figure above shows the relationship between overall prediction accuracy and sample loss when choosing occupation codes based on a maximum probability estimate within different deviations from the mean. The tails of the probability distribution are long, with records for about 65 percent of cases being selected based on a probability estimate 20 standard deviations from the mean probability estimate. If we follow convention in the previous section and choose a 90 percent accuracy rate, that is associated with a maximum probability estimate being 15 standard deviations from the mean and assignment for between 75 and 80 percent of all cases predicted.\n",
    "\n",
    "Compared to choosing a fixed cutoff, the flexible cutoff thresholds allow for greater sample retention for a given prediction accuracy; that is, fewer records go to clerical coding for a given probability threshold. For example, to achieve a 95 percent accuracy rate in the predicted sample, we could select cases where the prediction probability is 20 standard deviations from the mean. This creterion would assign codes for 60 percent of cases (net of what was assigned by the index autocoder) and leave close to 40 percent of the remainder to be clerical coded. For the fixed threshold model, achieving 95 percent occupation assignment accuracy requires specifying a probability threshold between 0.12 and 0.125 but at a cost of assigning codes for between 30 and 40 percent of cases (leaving 60 to 70 percent of cases for clerical coding).\n",
    "\n",
    "In what follows, we create a selection criterion based on two cases: a fixed threshold of $Pr\\ge0.03$ and a flexible threshold where the predicted probability is 15 or more standard deviations from the mean. I then add these predictions to the full file and summarise the incidence of occupation code assignment and the accuracy rate for this ensemble."
   ]
  },
  {
   "cell_type": "code",
   "execution_count": 148,
   "metadata": {},
   "outputs": [
    {
     "data": {
      "text/html": [
       "<div>\n",
       "<style scoped>\n",
       "    .dataframe tbody tr th:only-of-type {\n",
       "        vertical-align: middle;\n",
       "    }\n",
       "\n",
       "    .dataframe tbody tr th {\n",
       "        vertical-align: top;\n",
       "    }\n",
       "\n",
       "    .dataframe thead th {\n",
       "        text-align: right;\n",
       "    }\n",
       "</style>\n",
       "<table border=\"1\" class=\"dataframe\">\n",
       "  <thead>\n",
       "    <tr style=\"text-align: right;\">\n",
       "      <th></th>\n",
       "      <th>OCC</th>\n",
       "      <th>rf_prob</th>\n",
       "      <th>rf_occ_fixed</th>\n",
       "    </tr>\n",
       "  </thead>\n",
       "  <tbody>\n",
       "    <tr>\n",
       "      <th>0</th>\n",
       "      <td>10.0</td>\n",
       "      <td>0.171665</td>\n",
       "      <td>10.0</td>\n",
       "    </tr>\n",
       "    <tr>\n",
       "      <th>1</th>\n",
       "      <td>10.0</td>\n",
       "      <td>0.008769</td>\n",
       "      <td>NaN</td>\n",
       "    </tr>\n",
       "    <tr>\n",
       "      <th>2</th>\n",
       "      <td>10.0</td>\n",
       "      <td>0.035612</td>\n",
       "      <td>10.0</td>\n",
       "    </tr>\n",
       "    <tr>\n",
       "      <th>3</th>\n",
       "      <td>10.0</td>\n",
       "      <td>0.122793</td>\n",
       "      <td>10.0</td>\n",
       "    </tr>\n",
       "    <tr>\n",
       "      <th>4</th>\n",
       "      <td>10.0</td>\n",
       "      <td>0.120382</td>\n",
       "      <td>10.0</td>\n",
       "    </tr>\n",
       "  </tbody>\n",
       "</table>\n",
       "</div>"
      ],
      "text/plain": [
       "    OCC   rf_prob  rf_occ_fixed\n",
       "0  10.0  0.171665          10.0\n",
       "1  10.0  0.008769           NaN\n",
       "2  10.0  0.035612          10.0\n",
       "3  10.0  0.122793          10.0\n",
       "4  10.0  0.120382          10.0"
      ]
     },
     "execution_count": 148,
     "metadata": {},
     "output_type": "execute_result"
    }
   ],
   "source": [
    "# select fixed threshold for max(Pr(x))>= 0.03\n",
    "pred_df['rf_occ_fixed'] = np.where(pred_df.rf_prob >= 0.03 , pred_df.rf_occ, np.nan )\n",
    "pred_df.drop(columns=['rf_occ'], inplace=True, axis=1)\n",
    "pred_df.head()"
   ]
  },
  {
   "cell_type": "code",
   "execution_count": 149,
   "metadata": {},
   "outputs": [
    {
     "data": {
      "text/plain": [
       "(102262, 3)"
      ]
     },
     "execution_count": 149,
     "metadata": {},
     "output_type": "execute_result"
    }
   ],
   "source": [
    "pred_df.shape"
   ]
  },
  {
   "cell_type": "code",
   "execution_count": 150,
   "metadata": {},
   "outputs": [
    {
     "data": {
      "text/html": [
       "<div>\n",
       "<style scoped>\n",
       "    .dataframe tbody tr th:only-of-type {\n",
       "        vertical-align: middle;\n",
       "    }\n",
       "\n",
       "    .dataframe tbody tr th {\n",
       "        vertical-align: top;\n",
       "    }\n",
       "\n",
       "    .dataframe thead th {\n",
       "        text-align: right;\n",
       "    }\n",
       "</style>\n",
       "<table border=\"1\" class=\"dataframe\">\n",
       "  <thead>\n",
       "    <tr style=\"text-align: right;\">\n",
       "      <th></th>\n",
       "      <th>OCC</th>\n",
       "      <th>rf_occ_15sig</th>\n",
       "    </tr>\n",
       "  </thead>\n",
       "  <tbody>\n",
       "    <tr>\n",
       "      <th>0</th>\n",
       "      <td>10</td>\n",
       "      <td>10.0</td>\n",
       "    </tr>\n",
       "    <tr>\n",
       "      <th>1</th>\n",
       "      <td>10</td>\n",
       "      <td>10.0</td>\n",
       "    </tr>\n",
       "    <tr>\n",
       "      <th>2</th>\n",
       "      <td>10</td>\n",
       "      <td>10.0</td>\n",
       "    </tr>\n",
       "    <tr>\n",
       "      <th>3</th>\n",
       "      <td>10</td>\n",
       "      <td>10.0</td>\n",
       "    </tr>\n",
       "    <tr>\n",
       "      <th>4</th>\n",
       "      <td>10</td>\n",
       "      <td>10.0</td>\n",
       "    </tr>\n",
       "  </tbody>\n",
       "</table>\n",
       "</div>"
      ],
      "text/plain": [
       "   OCC  rf_occ_15sig\n",
       "0   10          10.0\n",
       "1   10          10.0\n",
       "2   10          10.0\n",
       "3   10          10.0\n",
       "4   10          10.0"
      ]
     },
     "execution_count": 150,
     "metadata": {},
     "output_type": "execute_result"
    }
   ],
   "source": [
    "# select flexible threshold for max(Pr(x)) >= 15 standard deviations from the mean\n",
    "occ_sig_df['rf_occ_15sig'] = np.where(occ_sig_df.rf_prob_15sig == 1, occ_sig_df.rf_occ, np.nan)\n",
    "occ_sig_df[['OCC','rf_occ_15sig']].head()"
   ]
  },
  {
   "cell_type": "markdown",
   "metadata": {},
   "source": [
    "## 3. Match Rates and Accuracy from the Ensemble\n",
    "In this section I summarise the overall match rate and match accuracy from the two-part ensemble that matches on the index autocoder and then makes predictions from a trained random forest classifier. Since we only care about prediction accuracy, I simply work with the labeled occupation codes and the predictions from various sources.\n",
    "\n",
    "### Occupation Matches from All Sources"
   ]
  },
  {
   "cell_type": "code",
   "execution_count": 151,
   "metadata": {},
   "outputs": [
    {
     "name": "stdout",
     "output_type": "stream",
     "text": [
      "shape of random forest prediction set: (102262, 4)\n"
     ]
    },
    {
     "data": {
      "text/html": [
       "<div>\n",
       "<style scoped>\n",
       "    .dataframe tbody tr th:only-of-type {\n",
       "        vertical-align: middle;\n",
       "    }\n",
       "\n",
       "    .dataframe tbody tr th {\n",
       "        vertical-align: top;\n",
       "    }\n",
       "\n",
       "    .dataframe thead th {\n",
       "        text-align: right;\n",
       "    }\n",
       "</style>\n",
       "<table border=\"1\" class=\"dataframe\">\n",
       "  <thead>\n",
       "    <tr style=\"text-align: right;\">\n",
       "      <th></th>\n",
       "      <th>OCC</th>\n",
       "      <th>rf_prob</th>\n",
       "      <th>rf_occ_fixed</th>\n",
       "      <th>rf_occ_15sig</th>\n",
       "    </tr>\n",
       "  </thead>\n",
       "  <tbody>\n",
       "    <tr>\n",
       "      <th>0</th>\n",
       "      <td>10.0</td>\n",
       "      <td>0.171665</td>\n",
       "      <td>10.0</td>\n",
       "      <td>10.0</td>\n",
       "    </tr>\n",
       "    <tr>\n",
       "      <th>1</th>\n",
       "      <td>10.0</td>\n",
       "      <td>0.008769</td>\n",
       "      <td>NaN</td>\n",
       "      <td>10.0</td>\n",
       "    </tr>\n",
       "    <tr>\n",
       "      <th>2</th>\n",
       "      <td>10.0</td>\n",
       "      <td>0.035612</td>\n",
       "      <td>10.0</td>\n",
       "      <td>10.0</td>\n",
       "    </tr>\n",
       "    <tr>\n",
       "      <th>3</th>\n",
       "      <td>10.0</td>\n",
       "      <td>0.122793</td>\n",
       "      <td>10.0</td>\n",
       "      <td>10.0</td>\n",
       "    </tr>\n",
       "    <tr>\n",
       "      <th>4</th>\n",
       "      <td>10.0</td>\n",
       "      <td>0.120382</td>\n",
       "      <td>10.0</td>\n",
       "      <td>10.0</td>\n",
       "    </tr>\n",
       "  </tbody>\n",
       "</table>\n",
       "</div>"
      ],
      "text/plain": [
       "    OCC   rf_prob  rf_occ_fixed  rf_occ_15sig\n",
       "0  10.0  0.171665          10.0          10.0\n",
       "1  10.0  0.008769           NaN          10.0\n",
       "2  10.0  0.035612          10.0          10.0\n",
       "3  10.0  0.122793          10.0          10.0\n",
       "4  10.0  0.120382          10.0          10.0"
      ]
     },
     "execution_count": 151,
     "metadata": {},
     "output_type": "execute_result"
    }
   ],
   "source": [
    "# create combined set of rf predictions\n",
    "rf_occs = pd.concat([pred_df, occ_sig_df['rf_occ_15sig']], axis=1)\n",
    "print('shape of random forest prediction set:' , rf_occs.shape)\n",
    "rf_occs.head()"
   ]
  },
  {
   "cell_type": "code",
   "execution_count": 152,
   "metadata": {},
   "outputs": [
    {
     "data": {
      "text/html": [
       "<div>\n",
       "<style scoped>\n",
       "    .dataframe tbody tr th:only-of-type {\n",
       "        vertical-align: middle;\n",
       "    }\n",
       "\n",
       "    .dataframe tbody tr th {\n",
       "        vertical-align: top;\n",
       "    }\n",
       "\n",
       "    .dataframe thead th {\n",
       "        text-align: right;\n",
       "    }\n",
       "</style>\n",
       "<table border=\"1\" class=\"dataframe\">\n",
       "  <thead>\n",
       "    <tr style=\"text-align: right;\">\n",
       "      <th></th>\n",
       "      <th>OCC</th>\n",
       "      <th>indexautoocc</th>\n",
       "      <th>indexautomcode</th>\n",
       "      <th>rf_prob</th>\n",
       "      <th>rf_occ_fixed</th>\n",
       "      <th>rf_occ_15sig</th>\n",
       "    </tr>\n",
       "  </thead>\n",
       "  <tbody>\n",
       "    <tr>\n",
       "      <th>0</th>\n",
       "      <td>0010</td>\n",
       "      <td>0010</td>\n",
       "      <td>101.0</td>\n",
       "      <td>NaN</td>\n",
       "      <td>NaN</td>\n",
       "      <td>NaN</td>\n",
       "    </tr>\n",
       "    <tr>\n",
       "      <th>1</th>\n",
       "      <td>0010</td>\n",
       "      <td>4710</td>\n",
       "      <td>211.0</td>\n",
       "      <td>NaN</td>\n",
       "      <td>NaN</td>\n",
       "      <td>NaN</td>\n",
       "    </tr>\n",
       "    <tr>\n",
       "      <th>2</th>\n",
       "      <td>0010</td>\n",
       "      <td>0010</td>\n",
       "      <td>101.0</td>\n",
       "      <td>NaN</td>\n",
       "      <td>NaN</td>\n",
       "      <td>NaN</td>\n",
       "    </tr>\n",
       "    <tr>\n",
       "      <th>3</th>\n",
       "      <td>0010</td>\n",
       "      <td>0010</td>\n",
       "      <td>101.0</td>\n",
       "      <td>NaN</td>\n",
       "      <td>NaN</td>\n",
       "      <td>NaN</td>\n",
       "    </tr>\n",
       "    <tr>\n",
       "      <th>4</th>\n",
       "      <td>0010</td>\n",
       "      <td>0010</td>\n",
       "      <td>101.0</td>\n",
       "      <td>NaN</td>\n",
       "      <td>NaN</td>\n",
       "      <td>NaN</td>\n",
       "    </tr>\n",
       "  </tbody>\n",
       "</table>\n",
       "</div>"
      ],
      "text/plain": [
       "    OCC indexautoocc  indexautomcode  rf_prob  rf_occ_fixed  rf_occ_15sig\n",
       "0  0010         0010           101.0      NaN           NaN           NaN\n",
       "1  0010         4710           211.0      NaN           NaN           NaN\n",
       "2  0010         0010           101.0      NaN           NaN           NaN\n",
       "3  0010         0010           101.0      NaN           NaN           NaN\n",
       "4  0010         0010           101.0      NaN           NaN           NaN"
      ]
     },
     "execution_count": 152,
     "metadata": {},
     "output_type": "execute_result"
    }
   ],
   "source": [
    "# full set of occupation codes\n",
    "# NOTE: vertically stack index autocode with random forest\n",
    "autocode_occs = pd.concat([acs_auto_index[['OCC','indexautoocc','indexautomcode']], rf_occs],\n",
    "                          axis=0).reset_index(drop=True)\n",
    "\n",
    "autocode_occs.head()"
   ]
  },
  {
   "cell_type": "code",
   "execution_count": 153,
   "metadata": {
    "collapsed": true
   },
   "outputs": [],
   "source": [
    "# save file for later use\n",
    "autocode_occs.to_csv('acs_n250_ensemble_autocode.csv', index=False)"
   ]
  },
  {
   "cell_type": "code",
   "execution_count": 26,
   "metadata": {
    "collapsed": true
   },
   "outputs": [],
   "source": [
    "autocode_occs = pd.read_csv('acs_n250_ensemble_autocode.csv')"
   ]
  },
  {
   "cell_type": "code",
   "execution_count": 27,
   "metadata": {},
   "outputs": [
    {
     "data": {
      "text/html": [
       "<div>\n",
       "<style scoped>\n",
       "    .dataframe tbody tr th:only-of-type {\n",
       "        vertical-align: middle;\n",
       "    }\n",
       "\n",
       "    .dataframe tbody tr th {\n",
       "        vertical-align: top;\n",
       "    }\n",
       "\n",
       "    .dataframe thead th {\n",
       "        text-align: right;\n",
       "    }\n",
       "</style>\n",
       "<table border=\"1\" class=\"dataframe\">\n",
       "  <thead>\n",
       "    <tr style=\"text-align: right;\">\n",
       "      <th></th>\n",
       "      <th>OCC</th>\n",
       "      <th>indexautoocc</th>\n",
       "      <th>indexautomcode</th>\n",
       "      <th>rf_prob</th>\n",
       "      <th>rf_occ_fixed</th>\n",
       "      <th>rf_occ_15sig</th>\n",
       "    </tr>\n",
       "  </thead>\n",
       "  <tbody>\n",
       "    <tr>\n",
       "      <th>4454</th>\n",
       "      <td>1350.0</td>\n",
       "      <td>5040.0</td>\n",
       "      <td>101.0</td>\n",
       "      <td>NaN</td>\n",
       "      <td>NaN</td>\n",
       "      <td>NaN</td>\n",
       "    </tr>\n",
       "    <tr>\n",
       "      <th>93956</th>\n",
       "      <td>4700.0</td>\n",
       "      <td>NaN</td>\n",
       "      <td>NaN</td>\n",
       "      <td>0.026058</td>\n",
       "      <td>NaN</td>\n",
       "      <td>4700.0</td>\n",
       "    </tr>\n",
       "    <tr>\n",
       "      <th>106428</th>\n",
       "      <td>5860.0</td>\n",
       "      <td>NaN</td>\n",
       "      <td>NaN</td>\n",
       "      <td>0.015686</td>\n",
       "      <td>NaN</td>\n",
       "      <td>5860.0</td>\n",
       "    </tr>\n",
       "    <tr>\n",
       "      <th>52050</th>\n",
       "      <td>960.0</td>\n",
       "      <td>NaN</td>\n",
       "      <td>NaN</td>\n",
       "      <td>0.036807</td>\n",
       "      <td>960.0</td>\n",
       "      <td>960.0</td>\n",
       "    </tr>\n",
       "    <tr>\n",
       "      <th>7782</th>\n",
       "      <td>2004.0</td>\n",
       "      <td>2004.0</td>\n",
       "      <td>101.0</td>\n",
       "      <td>NaN</td>\n",
       "      <td>NaN</td>\n",
       "      <td>NaN</td>\n",
       "    </tr>\n",
       "    <tr>\n",
       "      <th>41028</th>\n",
       "      <td>101.0</td>\n",
       "      <td>NaN</td>\n",
       "      <td>NaN</td>\n",
       "      <td>0.068591</td>\n",
       "      <td>5110.0</td>\n",
       "      <td>5110.0</td>\n",
       "    </tr>\n",
       "    <tr>\n",
       "      <th>63643</th>\n",
       "      <td>1935.0</td>\n",
       "      <td>NaN</td>\n",
       "      <td>NaN</td>\n",
       "      <td>0.082546</td>\n",
       "      <td>1935.0</td>\n",
       "      <td>1935.0</td>\n",
       "    </tr>\n",
       "    <tr>\n",
       "      <th>21708</th>\n",
       "      <td>4010.0</td>\n",
       "      <td>4010.0</td>\n",
       "      <td>111.0</td>\n",
       "      <td>NaN</td>\n",
       "      <td>NaN</td>\n",
       "      <td>NaN</td>\n",
       "    </tr>\n",
       "    <tr>\n",
       "      <th>86956</th>\n",
       "      <td>3960.0</td>\n",
       "      <td>NaN</td>\n",
       "      <td>NaN</td>\n",
       "      <td>0.333508</td>\n",
       "      <td>3960.0</td>\n",
       "      <td>3960.0</td>\n",
       "    </tr>\n",
       "    <tr>\n",
       "      <th>124131</th>\n",
       "      <td>7720.0</td>\n",
       "      <td>NaN</td>\n",
       "      <td>NaN</td>\n",
       "      <td>0.011103</td>\n",
       "      <td>NaN</td>\n",
       "      <td>NaN</td>\n",
       "    </tr>\n",
       "  </tbody>\n",
       "</table>\n",
       "</div>"
      ],
      "text/plain": [
       "           OCC  indexautoocc  indexautomcode   rf_prob  rf_occ_fixed  \\\n",
       "4454    1350.0        5040.0           101.0       NaN           NaN   \n",
       "93956   4700.0           NaN             NaN  0.026058           NaN   \n",
       "106428  5860.0           NaN             NaN  0.015686           NaN   \n",
       "52050    960.0           NaN             NaN  0.036807         960.0   \n",
       "7782    2004.0        2004.0           101.0       NaN           NaN   \n",
       "41028    101.0           NaN             NaN  0.068591        5110.0   \n",
       "63643   1935.0           NaN             NaN  0.082546        1935.0   \n",
       "21708   4010.0        4010.0           111.0       NaN           NaN   \n",
       "86956   3960.0           NaN             NaN  0.333508        3960.0   \n",
       "124131  7720.0           NaN             NaN  0.011103           NaN   \n",
       "\n",
       "        rf_occ_15sig  \n",
       "4454             NaN  \n",
       "93956         4700.0  \n",
       "106428        5860.0  \n",
       "52050          960.0  \n",
       "7782             NaN  \n",
       "41028         5110.0  \n",
       "63643         1935.0  \n",
       "21708            NaN  \n",
       "86956         3960.0  \n",
       "124131           NaN  "
      ]
     },
     "execution_count": 27,
     "metadata": {},
     "output_type": "execute_result"
    }
   ],
   "source": [
    "autocode_occs.sample(n=100).head(10)"
   ]
  },
  {
   "cell_type": "code",
   "execution_count": 165,
   "metadata": {
    "collapsed": true
   },
   "outputs": [],
   "source": [
    "# create single composite autocoded occupation code assignment\n",
    "autocode_occs['autoocc1'] = np.where(autocode_occs.indexautoocc.isna(),\n",
    "                                     autocode_occs.rf_occ_fixed,\n",
    "                                     autocode_occs.indexautoocc)\n",
    "\n",
    "autocode_occs['autoocc2'] = np.where(autocode_occs.indexautoocc.isna(),\n",
    "                                     autocode_occs.rf_occ_15sig,\n",
    "                                     autocode_occs.indexautoocc)"
   ]
  },
  {
   "cell_type": "code",
   "execution_count": 166,
   "metadata": {
    "collapsed": true
   },
   "outputs": [],
   "source": [
    "# add match code\n",
    "autocode_occs['automc1'] = np.where(autocode_occs.indexautoocc.isna(),\n",
    "                                    np.where(autocode_occs.rf_occ_fixed.isna(),\n",
    "                                             autocode_occs.rf_occ_fixed,\n",
    "                                             999),\n",
    "                                    autocode_occs.indexautomcode)\n",
    "\n",
    "autocode_occs['automc2'] = np.where(autocode_occs.indexautoocc.isna(),\n",
    "                                    np.where(autocode_occs.rf_occ_15sig.isna(),\n",
    "                                             autocode_occs.rf_occ_15sig,\n",
    "                                             999),\n",
    "                                    autocode_occs.indexautomcode)"
   ]
  },
  {
   "cell_type": "code",
   "execution_count": 167,
   "metadata": {},
   "outputs": [
    {
     "data": {
      "text/html": [
       "<div>\n",
       "<style scoped>\n",
       "    .dataframe tbody tr th:only-of-type {\n",
       "        vertical-align: middle;\n",
       "    }\n",
       "\n",
       "    .dataframe tbody tr th {\n",
       "        vertical-align: top;\n",
       "    }\n",
       "\n",
       "    .dataframe thead th {\n",
       "        text-align: right;\n",
       "    }\n",
       "</style>\n",
       "<table border=\"1\" class=\"dataframe\">\n",
       "  <thead>\n",
       "    <tr style=\"text-align: right;\">\n",
       "      <th></th>\n",
       "      <th>OCC</th>\n",
       "      <th>indexautoocc</th>\n",
       "      <th>indexautomcode</th>\n",
       "      <th>rf_prob</th>\n",
       "      <th>rf_occ_fixed</th>\n",
       "      <th>rf_occ_15sig</th>\n",
       "      <th>autoocc1</th>\n",
       "      <th>autoocc2</th>\n",
       "      <th>automc1</th>\n",
       "      <th>automc2</th>\n",
       "    </tr>\n",
       "  </thead>\n",
       "  <tbody>\n",
       "    <tr>\n",
       "      <th>57992</th>\n",
       "      <td>1410.0</td>\n",
       "      <td>NaN</td>\n",
       "      <td>NaN</td>\n",
       "      <td>0.298358</td>\n",
       "      <td>1410.0</td>\n",
       "      <td>1410.0</td>\n",
       "      <td>1410</td>\n",
       "      <td>1410</td>\n",
       "      <td>999.0</td>\n",
       "      <td>999.0</td>\n",
       "    </tr>\n",
       "    <tr>\n",
       "      <th>47256</th>\n",
       "      <td>440.0</td>\n",
       "      <td>NaN</td>\n",
       "      <td>NaN</td>\n",
       "      <td>0.022588</td>\n",
       "      <td>NaN</td>\n",
       "      <td>NaN</td>\n",
       "      <td>NaN</td>\n",
       "      <td>NaN</td>\n",
       "      <td>NaN</td>\n",
       "      <td>NaN</td>\n",
       "    </tr>\n",
       "    <tr>\n",
       "      <th>70158</th>\n",
       "      <td>2330.0</td>\n",
       "      <td>NaN</td>\n",
       "      <td>NaN</td>\n",
       "      <td>0.327449</td>\n",
       "      <td>2330.0</td>\n",
       "      <td>2330.0</td>\n",
       "      <td>2330</td>\n",
       "      <td>2330</td>\n",
       "      <td>999.0</td>\n",
       "      <td>999.0</td>\n",
       "    </tr>\n",
       "    <tr>\n",
       "      <th>118409</th>\n",
       "      <td>7110.0</td>\n",
       "      <td>NaN</td>\n",
       "      <td>NaN</td>\n",
       "      <td>0.056311</td>\n",
       "      <td>7110.0</td>\n",
       "      <td>7110.0</td>\n",
       "      <td>7110</td>\n",
       "      <td>7110</td>\n",
       "      <td>999.0</td>\n",
       "      <td>999.0</td>\n",
       "    </tr>\n",
       "    <tr>\n",
       "      <th>15441</th>\n",
       "      <td>3250.0</td>\n",
       "      <td>3250</td>\n",
       "      <td>111.0</td>\n",
       "      <td>NaN</td>\n",
       "      <td>NaN</td>\n",
       "      <td>NaN</td>\n",
       "      <td>3250</td>\n",
       "      <td>3250</td>\n",
       "      <td>111.0</td>\n",
       "      <td>111.0</td>\n",
       "    </tr>\n",
       "    <tr>\n",
       "      <th>10049</th>\n",
       "      <td>2632.0</td>\n",
       "      <td>2632</td>\n",
       "      <td>101.0</td>\n",
       "      <td>NaN</td>\n",
       "      <td>NaN</td>\n",
       "      <td>NaN</td>\n",
       "      <td>2632</td>\n",
       "      <td>2632</td>\n",
       "      <td>101.0</td>\n",
       "      <td>101.0</td>\n",
       "    </tr>\n",
       "    <tr>\n",
       "      <th>114175</th>\n",
       "      <td>6720.0</td>\n",
       "      <td>NaN</td>\n",
       "      <td>NaN</td>\n",
       "      <td>0.019020</td>\n",
       "      <td>NaN</td>\n",
       "      <td>6720.0</td>\n",
       "      <td>NaN</td>\n",
       "      <td>6720</td>\n",
       "      <td>NaN</td>\n",
       "      <td>999.0</td>\n",
       "    </tr>\n",
       "    <tr>\n",
       "      <th>99003</th>\n",
       "      <td>5140.0</td>\n",
       "      <td>NaN</td>\n",
       "      <td>NaN</td>\n",
       "      <td>0.259336</td>\n",
       "      <td>5140.0</td>\n",
       "      <td>5140.0</td>\n",
       "      <td>5140</td>\n",
       "      <td>5140</td>\n",
       "      <td>999.0</td>\n",
       "      <td>999.0</td>\n",
       "    </tr>\n",
       "    <tr>\n",
       "      <th>76955</th>\n",
       "      <td>2920.0</td>\n",
       "      <td>NaN</td>\n",
       "      <td>NaN</td>\n",
       "      <td>0.055172</td>\n",
       "      <td>2920.0</td>\n",
       "      <td>2920.0</td>\n",
       "      <td>2920</td>\n",
       "      <td>2920</td>\n",
       "      <td>999.0</td>\n",
       "      <td>999.0</td>\n",
       "    </tr>\n",
       "    <tr>\n",
       "      <th>75005</th>\n",
       "      <td>2810.0</td>\n",
       "      <td>NaN</td>\n",
       "      <td>NaN</td>\n",
       "      <td>0.215147</td>\n",
       "      <td>2810.0</td>\n",
       "      <td>2810.0</td>\n",
       "      <td>2810</td>\n",
       "      <td>2810</td>\n",
       "      <td>999.0</td>\n",
       "      <td>999.0</td>\n",
       "    </tr>\n",
       "  </tbody>\n",
       "</table>\n",
       "</div>"
      ],
      "text/plain": [
       "           OCC indexautoocc  indexautomcode   rf_prob  rf_occ_fixed  \\\n",
       "57992   1410.0          NaN             NaN  0.298358        1410.0   \n",
       "47256    440.0          NaN             NaN  0.022588           NaN   \n",
       "70158   2330.0          NaN             NaN  0.327449        2330.0   \n",
       "118409  7110.0          NaN             NaN  0.056311        7110.0   \n",
       "15441   3250.0         3250           111.0       NaN           NaN   \n",
       "10049   2632.0         2632           101.0       NaN           NaN   \n",
       "114175  6720.0          NaN             NaN  0.019020           NaN   \n",
       "99003   5140.0          NaN             NaN  0.259336        5140.0   \n",
       "76955   2920.0          NaN             NaN  0.055172        2920.0   \n",
       "75005   2810.0          NaN             NaN  0.215147        2810.0   \n",
       "\n",
       "        rf_occ_15sig autoocc1 autoocc2  automc1  automc2  \n",
       "57992         1410.0     1410     1410    999.0    999.0  \n",
       "47256            NaN      NaN      NaN      NaN      NaN  \n",
       "70158         2330.0     2330     2330    999.0    999.0  \n",
       "118409        7110.0     7110     7110    999.0    999.0  \n",
       "15441            NaN     3250     3250    111.0    111.0  \n",
       "10049            NaN     2632     2632    101.0    101.0  \n",
       "114175        6720.0      NaN     6720      NaN    999.0  \n",
       "99003         5140.0     5140     5140    999.0    999.0  \n",
       "76955         2920.0     2920     2920    999.0    999.0  \n",
       "75005         2810.0     2810     2810    999.0    999.0  "
      ]
     },
     "execution_count": 167,
     "metadata": {},
     "output_type": "execute_result"
    }
   ],
   "source": [
    "autocode_occs.sample(n=100).head(10)"
   ]
  },
  {
   "cell_type": "code",
   "execution_count": 168,
   "metadata": {
    "collapsed": true
   },
   "outputs": [],
   "source": [
    "# convert occ field to float\n",
    "autocode_occs.OCC = autocode_occs.OCC.apply(lambda x: float(x))\n",
    "autocode_occs.autoocc1 = autocode_occs.autoocc1.apply(lambda x: float(x))\n",
    "autocode_occs.autoocc2 = autocode_occs.autoocc2.apply(lambda x: float(x))"
   ]
  },
  {
   "cell_type": "markdown",
   "metadata": {},
   "source": [
    "#### Match Rate and Accuracy of Ensemble with Fixed Cutoff Threshold\n",
    "Below shows the match rate and accuracy rate of the ensemble autocoder for the sample of occupation write-in data. We use a fixed cutoff of an occupation autocode being chosen with a predicted probability greater than or equal to 0.03.\n",
    "\n"
   ]
  },
  {
   "cell_type": "code",
   "execution_count": 169,
   "metadata": {},
   "outputs": [
    {
     "name": "stdout",
     "output_type": "stream",
     "text": [
      "autocoder assignment rate: 77.0%\n",
      "autocoder accuracy       : 84.8%\n"
     ]
    }
   ],
   "source": [
    "print('autocoder assignment rate:' , \n",
    "      '{:.1%}'.format(float(autocode_occs.autoocc1.notnull().sum()/len(autocode_occs))))\n",
    "print('autocoder accuracy       :' ,\n",
    "      '{:.1%}'.format(accuracy_score(autocode_occs[autocode_occs.autoocc1.notnull()]['OCC'],\n",
    "                                     autocode_occs[autocode_occs.autoocc1.notnull()]['autoocc1'])))"
   ]
  },
  {
   "cell_type": "markdown",
   "metadata": {},
   "source": [
    "#### Match Rate and Accuracy of Ensemble with Flexible Cutoff Threshold\n"
   ]
  },
  {
   "cell_type": "code",
   "execution_count": 170,
   "metadata": {},
   "outputs": [
    {
     "name": "stdout",
     "output_type": "stream",
     "text": [
      "autocoder assignment rate: 84.1%\n",
      "autocoder accuracy       : 85.5%\n"
     ]
    }
   ],
   "source": [
    "print('autocoder assignment rate:' , \n",
    "      '{:.1%}'.format(float(autocode_occs.autoocc2.notnull().sum()/len(autocode_occs))))\n",
    "print('autocoder accuracy       :' ,\n",
    "      '{:.1%}'.format(accuracy_score(autocode_occs[autocode_occs.autoocc2.notnull()]['OCC'],\n",
    "                                     autocode_occs[autocode_occs.autoocc2.notnull()]['autoocc2'])))"
   ]
  },
  {
   "cell_type": "markdown",
   "metadata": {},
   "source": [
    "#### Tabulate Match Source for `autoocc2`\n",
    "Discussions with IOSB indicated that the production autocoder does not record the stage at which an occupation code prediction is made. I built that into the two-step ensemble autocoder presented in this workbook. The following shows the distibution of occupation code assignments by source for those with code assignments meeting the flexible cutoff criterion of having a predicted probably 15 or more standard deviations from the mean for each prediction."
   ]
  },
  {
   "cell_type": "code",
   "execution_count": 195,
   "metadata": {
    "collapsed": true
   },
   "outputs": [],
   "source": [
    "mc_summary = autocode_occs[autocode_occs.autoocc2.notnull()].groupby(['automc2']).count().reset_index()"
   ]
  },
  {
   "cell_type": "code",
   "execution_count": 196,
   "metadata": {},
   "outputs": [
    {
     "data": {
      "text/html": [
       "<div>\n",
       "<style scoped>\n",
       "    .dataframe tbody tr th:only-of-type {\n",
       "        vertical-align: middle;\n",
       "    }\n",
       "\n",
       "    .dataframe tbody tr th {\n",
       "        vertical-align: top;\n",
       "    }\n",
       "\n",
       "    .dataframe thead th {\n",
       "        text-align: right;\n",
       "    }\n",
       "</style>\n",
       "<table border=\"1\" class=\"dataframe\">\n",
       "  <thead>\n",
       "    <tr style=\"text-align: right;\">\n",
       "      <th></th>\n",
       "      <th>automc2</th>\n",
       "      <th>OCC</th>\n",
       "    </tr>\n",
       "  </thead>\n",
       "  <tbody>\n",
       "    <tr>\n",
       "      <th>0</th>\n",
       "      <td>101.0</td>\n",
       "      <td>22638</td>\n",
       "    </tr>\n",
       "    <tr>\n",
       "      <th>1</th>\n",
       "      <td>111.0</td>\n",
       "      <td>14597</td>\n",
       "    </tr>\n",
       "    <tr>\n",
       "      <th>2</th>\n",
       "      <td>211.0</td>\n",
       "      <td>2926</td>\n",
       "    </tr>\n",
       "    <tr>\n",
       "      <th>3</th>\n",
       "      <td>301.0</td>\n",
       "      <td>53</td>\n",
       "    </tr>\n",
       "    <tr>\n",
       "      <th>4</th>\n",
       "      <td>311.0</td>\n",
       "      <td>24</td>\n",
       "    </tr>\n",
       "    <tr>\n",
       "      <th>5</th>\n",
       "      <td>999.0</td>\n",
       "      <td>79624</td>\n",
       "    </tr>\n",
       "  </tbody>\n",
       "</table>\n",
       "</div>"
      ],
      "text/plain": [
       "   automc2    OCC\n",
       "0    101.0  22638\n",
       "1    111.0  14597\n",
       "2    211.0   2926\n",
       "3    301.0     53\n",
       "4    311.0     24\n",
       "5    999.0  79624"
      ]
     },
     "execution_count": 196,
     "metadata": {},
     "output_type": "execute_result"
    }
   ],
   "source": [
    "mc_summary = mc_summary[['automc2','OCC']].copy()\n",
    "mc_summary"
   ]
  },
  {
   "cell_type": "code",
   "execution_count": 197,
   "metadata": {
    "collapsed": true
   },
   "outputs": [],
   "source": [
    "# export match code summary for presentation\n",
    "mc_summary.to_csv('autocc2_mc_summary.csv', index=False)"
   ]
  },
  {
   "cell_type": "code",
   "execution_count": 201,
   "metadata": {
    "collapsed": true
   },
   "outputs": [],
   "source": [
    "# export overall match results\n",
    "pred_df.to_csv('occ_pred_df.csv', index=False)\n",
    "occ_sig_df.to_csv('occ_sig_df.csv', index=False)"
   ]
  },
  {
   "cell_type": "markdown",
   "metadata": {},
   "source": [
    "## 4. Summary and Discussion\n",
    "\n",
    "This jupyter notebook presented a complete ML workflow to implement an ensemble autocoder for assigning Census occupation codes to ACS occupation write-in text fields. The ensemble uses a custom exact-matching autocoder to first select a set of high-accuracy (approaching 100 percent) matches before using a trained random forest classifier model to predict occupation codes for the unmatched remainder. Compared to the production autocoder, which saves between 40 and 50 percent of records from going to clerical coding, the ensemble presented here is able to save close to 86 percent of records from going to clerical coding at the same level of model accuracy. The approach implemented here demonstrates that updating the occupation autocoder would generate real cost savings for the Census Bureau.\n",
    "\n",
    "I used natural language processing (NLP) techniques to vectorize and lemmatize text from the write-in fields for use in a ML framework. Lemmatization was chosen as a way to reduce the column dimension of the text fields. In addition, I incorporated a relatively large set of features thought to account for differences in occupational assignment based on results from the urban and labor economics literatures.\n",
    "\n",
    "The results of this work suffer from two major limitations. First, time and available Census computing resource limited my choice of model selection and the size of sample I could use to fit that model. I limited my sample to *n* = 250 for each of the 570 occupation classes (chosen randomly and with replacement), which amounted to a roughly 3 percent sample. The selected random forest model was chosen based on a Grid Search across combinations of three different hyperparameters. This modeling strategy required days of continuous server operation; other methods, such as Gradient Boosting, never converged prior to the project's termination. With more time, I could have attempted other modeling frameworks that might more efficiently handle the full set of records (e.g., Logistic Regression).\n",
    "\n",
    "Second, accuracy estimates are dependent on the quality of the labels and they may be measured with error. The occupation code labels used here were previously assigned either by the existing production autocoder or clerical coder. To the extent that either is measured inaccurately, the accuracy estimates may be biased. Since the ML framework can only learn from the labeled data, this issue is likely to be more pronounced in the exact-match autocoder. Nonetheless, the labels are likely as good as they are going to get and, in the aggregate, are likely \"correct\" on average. \n",
    "\n",
    "This section is incomplete."
   ]
  },
  {
   "cell_type": "code",
   "execution_count": null,
   "metadata": {
    "collapsed": true
   },
   "outputs": [],
   "source": []
  }
 ],
 "metadata": {
  "kernelspec": {
   "display_name": "Python 3",
   "language": "python",
   "name": "python3"
  },
  "language_info": {
   "codemirror_mode": {
    "name": "ipython",
    "version": 3
   },
   "file_extension": ".py",
   "mimetype": "text/x-python",
   "name": "python",
   "nbconvert_exporter": "python",
   "pygments_lexer": "ipython3",
   "version": "3.6.3"
  }
 },
 "nbformat": 4,
 "nbformat_minor": 4
}
